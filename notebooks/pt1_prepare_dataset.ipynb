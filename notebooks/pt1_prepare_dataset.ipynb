{
  "nbformat": 4,
  "nbformat_minor": 0,
  "metadata": {
    "colab": {
      "provenance": [],
      "machine_shape": "hm",
      "gpuType": "A100",
      "authorship_tag": "ABX9TyOCfaK4PfCA5hxN1hbOBGBQ",
      "include_colab_link": true
    },
    "kernelspec": {
      "name": "python3",
      "display_name": "Python 3"
    },
    "language_info": {
      "name": "python"
    },
    "accelerator": "GPU",
    "widgets": {
      "application/vnd.jupyter.widget-state+json": {
        "b16c8029c3f44a7293de43c5f140a59c": {
          "model_module": "@jupyter-widgets/controls",
          "model_name": "HBoxModel",
          "model_module_version": "1.5.0",
          "state": {
            "_dom_classes": [],
            "_model_module": "@jupyter-widgets/controls",
            "_model_module_version": "1.5.0",
            "_model_name": "HBoxModel",
            "_view_count": null,
            "_view_module": "@jupyter-widgets/controls",
            "_view_module_version": "1.5.0",
            "_view_name": "HBoxView",
            "box_style": "",
            "children": [
              "IPY_MODEL_2ffd691fcd46465c8085aaf9e541a035",
              "IPY_MODEL_7adf266dcd3e422bb45b821816243132",
              "IPY_MODEL_99ce7620450b4c4c8a3b0772e1bca4de"
            ],
            "layout": "IPY_MODEL_94a187e4b3374d58aefb4e370d7b1b2f"
          }
        },
        "2ffd691fcd46465c8085aaf9e541a035": {
          "model_module": "@jupyter-widgets/controls",
          "model_name": "HTMLModel",
          "model_module_version": "1.5.0",
          "state": {
            "_dom_classes": [],
            "_model_module": "@jupyter-widgets/controls",
            "_model_module_version": "1.5.0",
            "_model_name": "HTMLModel",
            "_view_count": null,
            "_view_module": "@jupyter-widgets/controls",
            "_view_module_version": "1.5.0",
            "_view_name": "HTMLView",
            "description": "",
            "description_tooltip": null,
            "layout": "IPY_MODEL_9480612563ab4241a36c4093d52a96e9",
            "placeholder": "​",
            "style": "IPY_MODEL_07b5d849200a4cebaf062d50cf93c713",
            "value": "Generating train split: "
          }
        },
        "7adf266dcd3e422bb45b821816243132": {
          "model_module": "@jupyter-widgets/controls",
          "model_name": "FloatProgressModel",
          "model_module_version": "1.5.0",
          "state": {
            "_dom_classes": [],
            "_model_module": "@jupyter-widgets/controls",
            "_model_module_version": "1.5.0",
            "_model_name": "FloatProgressModel",
            "_view_count": null,
            "_view_module": "@jupyter-widgets/controls",
            "_view_module_version": "1.5.0",
            "_view_name": "ProgressView",
            "bar_style": "success",
            "description": "",
            "description_tooltip": null,
            "layout": "IPY_MODEL_86ba7f4740c64c69aada3ed2781b7bfd",
            "max": 1,
            "min": 0,
            "orientation": "horizontal",
            "style": "IPY_MODEL_4f63b696359141deb6e52d93254cc07a",
            "value": 1
          }
        },
        "99ce7620450b4c4c8a3b0772e1bca4de": {
          "model_module": "@jupyter-widgets/controls",
          "model_name": "HTMLModel",
          "model_module_version": "1.5.0",
          "state": {
            "_dom_classes": [],
            "_model_module": "@jupyter-widgets/controls",
            "_model_module_version": "1.5.0",
            "_model_name": "HTMLModel",
            "_view_count": null,
            "_view_module": "@jupyter-widgets/controls",
            "_view_module_version": "1.5.0",
            "_view_name": "HTMLView",
            "description": "",
            "description_tooltip": null,
            "layout": "IPY_MODEL_412f8805adc847098e7f17312aba5a80",
            "placeholder": "​",
            "style": "IPY_MODEL_89e797910a664507a6cdb2d5e5be44b9",
            "value": " 1373311/0 [01:13&lt;00:00, 32774.82 examples/s]"
          }
        },
        "94a187e4b3374d58aefb4e370d7b1b2f": {
          "model_module": "@jupyter-widgets/base",
          "model_name": "LayoutModel",
          "model_module_version": "1.2.0",
          "state": {
            "_model_module": "@jupyter-widgets/base",
            "_model_module_version": "1.2.0",
            "_model_name": "LayoutModel",
            "_view_count": null,
            "_view_module": "@jupyter-widgets/base",
            "_view_module_version": "1.2.0",
            "_view_name": "LayoutView",
            "align_content": null,
            "align_items": null,
            "align_self": null,
            "border": null,
            "bottom": null,
            "display": null,
            "flex": null,
            "flex_flow": null,
            "grid_area": null,
            "grid_auto_columns": null,
            "grid_auto_flow": null,
            "grid_auto_rows": null,
            "grid_column": null,
            "grid_gap": null,
            "grid_row": null,
            "grid_template_areas": null,
            "grid_template_columns": null,
            "grid_template_rows": null,
            "height": null,
            "justify_content": null,
            "justify_items": null,
            "left": null,
            "margin": null,
            "max_height": null,
            "max_width": null,
            "min_height": null,
            "min_width": null,
            "object_fit": null,
            "object_position": null,
            "order": null,
            "overflow": null,
            "overflow_x": null,
            "overflow_y": null,
            "padding": null,
            "right": null,
            "top": null,
            "visibility": null,
            "width": null
          }
        },
        "9480612563ab4241a36c4093d52a96e9": {
          "model_module": "@jupyter-widgets/base",
          "model_name": "LayoutModel",
          "model_module_version": "1.2.0",
          "state": {
            "_model_module": "@jupyter-widgets/base",
            "_model_module_version": "1.2.0",
            "_model_name": "LayoutModel",
            "_view_count": null,
            "_view_module": "@jupyter-widgets/base",
            "_view_module_version": "1.2.0",
            "_view_name": "LayoutView",
            "align_content": null,
            "align_items": null,
            "align_self": null,
            "border": null,
            "bottom": null,
            "display": null,
            "flex": null,
            "flex_flow": null,
            "grid_area": null,
            "grid_auto_columns": null,
            "grid_auto_flow": null,
            "grid_auto_rows": null,
            "grid_column": null,
            "grid_gap": null,
            "grid_row": null,
            "grid_template_areas": null,
            "grid_template_columns": null,
            "grid_template_rows": null,
            "height": null,
            "justify_content": null,
            "justify_items": null,
            "left": null,
            "margin": null,
            "max_height": null,
            "max_width": null,
            "min_height": null,
            "min_width": null,
            "object_fit": null,
            "object_position": null,
            "order": null,
            "overflow": null,
            "overflow_x": null,
            "overflow_y": null,
            "padding": null,
            "right": null,
            "top": null,
            "visibility": null,
            "width": null
          }
        },
        "07b5d849200a4cebaf062d50cf93c713": {
          "model_module": "@jupyter-widgets/controls",
          "model_name": "DescriptionStyleModel",
          "model_module_version": "1.5.0",
          "state": {
            "_model_module": "@jupyter-widgets/controls",
            "_model_module_version": "1.5.0",
            "_model_name": "DescriptionStyleModel",
            "_view_count": null,
            "_view_module": "@jupyter-widgets/base",
            "_view_module_version": "1.2.0",
            "_view_name": "StyleView",
            "description_width": ""
          }
        },
        "86ba7f4740c64c69aada3ed2781b7bfd": {
          "model_module": "@jupyter-widgets/base",
          "model_name": "LayoutModel",
          "model_module_version": "1.2.0",
          "state": {
            "_model_module": "@jupyter-widgets/base",
            "_model_module_version": "1.2.0",
            "_model_name": "LayoutModel",
            "_view_count": null,
            "_view_module": "@jupyter-widgets/base",
            "_view_module_version": "1.2.0",
            "_view_name": "LayoutView",
            "align_content": null,
            "align_items": null,
            "align_self": null,
            "border": null,
            "bottom": null,
            "display": null,
            "flex": null,
            "flex_flow": null,
            "grid_area": null,
            "grid_auto_columns": null,
            "grid_auto_flow": null,
            "grid_auto_rows": null,
            "grid_column": null,
            "grid_gap": null,
            "grid_row": null,
            "grid_template_areas": null,
            "grid_template_columns": null,
            "grid_template_rows": null,
            "height": null,
            "justify_content": null,
            "justify_items": null,
            "left": null,
            "margin": null,
            "max_height": null,
            "max_width": null,
            "min_height": null,
            "min_width": null,
            "object_fit": null,
            "object_position": null,
            "order": null,
            "overflow": null,
            "overflow_x": null,
            "overflow_y": null,
            "padding": null,
            "right": null,
            "top": null,
            "visibility": null,
            "width": "20px"
          }
        },
        "4f63b696359141deb6e52d93254cc07a": {
          "model_module": "@jupyter-widgets/controls",
          "model_name": "ProgressStyleModel",
          "model_module_version": "1.5.0",
          "state": {
            "_model_module": "@jupyter-widgets/controls",
            "_model_module_version": "1.5.0",
            "_model_name": "ProgressStyleModel",
            "_view_count": null,
            "_view_module": "@jupyter-widgets/base",
            "_view_module_version": "1.2.0",
            "_view_name": "StyleView",
            "bar_color": null,
            "description_width": ""
          }
        },
        "412f8805adc847098e7f17312aba5a80": {
          "model_module": "@jupyter-widgets/base",
          "model_name": "LayoutModel",
          "model_module_version": "1.2.0",
          "state": {
            "_model_module": "@jupyter-widgets/base",
            "_model_module_version": "1.2.0",
            "_model_name": "LayoutModel",
            "_view_count": null,
            "_view_module": "@jupyter-widgets/base",
            "_view_module_version": "1.2.0",
            "_view_name": "LayoutView",
            "align_content": null,
            "align_items": null,
            "align_self": null,
            "border": null,
            "bottom": null,
            "display": null,
            "flex": null,
            "flex_flow": null,
            "grid_area": null,
            "grid_auto_columns": null,
            "grid_auto_flow": null,
            "grid_auto_rows": null,
            "grid_column": null,
            "grid_gap": null,
            "grid_row": null,
            "grid_template_areas": null,
            "grid_template_columns": null,
            "grid_template_rows": null,
            "height": null,
            "justify_content": null,
            "justify_items": null,
            "left": null,
            "margin": null,
            "max_height": null,
            "max_width": null,
            "min_height": null,
            "min_width": null,
            "object_fit": null,
            "object_position": null,
            "order": null,
            "overflow": null,
            "overflow_x": null,
            "overflow_y": null,
            "padding": null,
            "right": null,
            "top": null,
            "visibility": null,
            "width": null
          }
        },
        "89e797910a664507a6cdb2d5e5be44b9": {
          "model_module": "@jupyter-widgets/controls",
          "model_name": "DescriptionStyleModel",
          "model_module_version": "1.5.0",
          "state": {
            "_model_module": "@jupyter-widgets/controls",
            "_model_module_version": "1.5.0",
            "_model_name": "DescriptionStyleModel",
            "_view_count": null,
            "_view_module": "@jupyter-widgets/base",
            "_view_module_version": "1.2.0",
            "_view_name": "StyleView",
            "description_width": ""
          }
        },
        "7aa90a6842fd4ec09926af968a8d02db": {
          "model_module": "@jupyter-widgets/controls",
          "model_name": "HBoxModel",
          "model_module_version": "1.5.0",
          "state": {
            "_dom_classes": [],
            "_model_module": "@jupyter-widgets/controls",
            "_model_module_version": "1.5.0",
            "_model_name": "HBoxModel",
            "_view_count": null,
            "_view_module": "@jupyter-widgets/controls",
            "_view_module_version": "1.5.0",
            "_view_name": "HBoxView",
            "box_style": "",
            "children": [
              "IPY_MODEL_a4d06b5c286d476ba6f664ca368c675b",
              "IPY_MODEL_6abea1d60be24c899c56e5b5ff2d392e",
              "IPY_MODEL_c13913282ce04694a0022e76bfd41de4"
            ],
            "layout": "IPY_MODEL_e6b7e7f1eca94e3e8ece9c5556be9e21"
          }
        },
        "a4d06b5c286d476ba6f664ca368c675b": {
          "model_module": "@jupyter-widgets/controls",
          "model_name": "HTMLModel",
          "model_module_version": "1.5.0",
          "state": {
            "_dom_classes": [],
            "_model_module": "@jupyter-widgets/controls",
            "_model_module_version": "1.5.0",
            "_model_name": "HTMLModel",
            "_view_count": null,
            "_view_module": "@jupyter-widgets/controls",
            "_view_module_version": "1.5.0",
            "_view_name": "HTMLView",
            "description": "",
            "description_tooltip": null,
            "layout": "IPY_MODEL_93c1fb96217b45a3bd9793903c9c170a",
            "placeholder": "​",
            "style": "IPY_MODEL_2e92bb50bb6041c4ac1a8dc0436776b1",
            "value": "Creating CSV from Arrow format: 100%"
          }
        },
        "6abea1d60be24c899c56e5b5ff2d392e": {
          "model_module": "@jupyter-widgets/controls",
          "model_name": "FloatProgressModel",
          "model_module_version": "1.5.0",
          "state": {
            "_dom_classes": [],
            "_model_module": "@jupyter-widgets/controls",
            "_model_module_version": "1.5.0",
            "_model_name": "FloatProgressModel",
            "_view_count": null,
            "_view_module": "@jupyter-widgets/controls",
            "_view_module_version": "1.5.0",
            "_view_name": "ProgressView",
            "bar_style": "success",
            "description": "",
            "description_tooltip": null,
            "layout": "IPY_MODEL_65dded71c42440108ce63142ea816665",
            "max": 5,
            "min": 0,
            "orientation": "horizontal",
            "style": "IPY_MODEL_2301cb4ac2a4493fb4437470c0efa3c5",
            "value": 5
          }
        },
        "c13913282ce04694a0022e76bfd41de4": {
          "model_module": "@jupyter-widgets/controls",
          "model_name": "HTMLModel",
          "model_module_version": "1.5.0",
          "state": {
            "_dom_classes": [],
            "_model_module": "@jupyter-widgets/controls",
            "_model_module_version": "1.5.0",
            "_model_name": "HTMLModel",
            "_view_count": null,
            "_view_module": "@jupyter-widgets/controls",
            "_view_module_version": "1.5.0",
            "_view_name": "HTMLView",
            "description": "",
            "description_tooltip": null,
            "layout": "IPY_MODEL_6680407a65f144a791e78467b0d801e3",
            "placeholder": "​",
            "style": "IPY_MODEL_d6337e80a56341c791e772fc5c65648e",
            "value": " 5/5 [00:00&lt;00:00, 27.55ba/s]"
          }
        },
        "e6b7e7f1eca94e3e8ece9c5556be9e21": {
          "model_module": "@jupyter-widgets/base",
          "model_name": "LayoutModel",
          "model_module_version": "1.2.0",
          "state": {
            "_model_module": "@jupyter-widgets/base",
            "_model_module_version": "1.2.0",
            "_model_name": "LayoutModel",
            "_view_count": null,
            "_view_module": "@jupyter-widgets/base",
            "_view_module_version": "1.2.0",
            "_view_name": "LayoutView",
            "align_content": null,
            "align_items": null,
            "align_self": null,
            "border": null,
            "bottom": null,
            "display": null,
            "flex": null,
            "flex_flow": null,
            "grid_area": null,
            "grid_auto_columns": null,
            "grid_auto_flow": null,
            "grid_auto_rows": null,
            "grid_column": null,
            "grid_gap": null,
            "grid_row": null,
            "grid_template_areas": null,
            "grid_template_columns": null,
            "grid_template_rows": null,
            "height": null,
            "justify_content": null,
            "justify_items": null,
            "left": null,
            "margin": null,
            "max_height": null,
            "max_width": null,
            "min_height": null,
            "min_width": null,
            "object_fit": null,
            "object_position": null,
            "order": null,
            "overflow": null,
            "overflow_x": null,
            "overflow_y": null,
            "padding": null,
            "right": null,
            "top": null,
            "visibility": null,
            "width": null
          }
        },
        "93c1fb96217b45a3bd9793903c9c170a": {
          "model_module": "@jupyter-widgets/base",
          "model_name": "LayoutModel",
          "model_module_version": "1.2.0",
          "state": {
            "_model_module": "@jupyter-widgets/base",
            "_model_module_version": "1.2.0",
            "_model_name": "LayoutModel",
            "_view_count": null,
            "_view_module": "@jupyter-widgets/base",
            "_view_module_version": "1.2.0",
            "_view_name": "LayoutView",
            "align_content": null,
            "align_items": null,
            "align_self": null,
            "border": null,
            "bottom": null,
            "display": null,
            "flex": null,
            "flex_flow": null,
            "grid_area": null,
            "grid_auto_columns": null,
            "grid_auto_flow": null,
            "grid_auto_rows": null,
            "grid_column": null,
            "grid_gap": null,
            "grid_row": null,
            "grid_template_areas": null,
            "grid_template_columns": null,
            "grid_template_rows": null,
            "height": null,
            "justify_content": null,
            "justify_items": null,
            "left": null,
            "margin": null,
            "max_height": null,
            "max_width": null,
            "min_height": null,
            "min_width": null,
            "object_fit": null,
            "object_position": null,
            "order": null,
            "overflow": null,
            "overflow_x": null,
            "overflow_y": null,
            "padding": null,
            "right": null,
            "top": null,
            "visibility": null,
            "width": null
          }
        },
        "2e92bb50bb6041c4ac1a8dc0436776b1": {
          "model_module": "@jupyter-widgets/controls",
          "model_name": "DescriptionStyleModel",
          "model_module_version": "1.5.0",
          "state": {
            "_model_module": "@jupyter-widgets/controls",
            "_model_module_version": "1.5.0",
            "_model_name": "DescriptionStyleModel",
            "_view_count": null,
            "_view_module": "@jupyter-widgets/base",
            "_view_module_version": "1.2.0",
            "_view_name": "StyleView",
            "description_width": ""
          }
        },
        "65dded71c42440108ce63142ea816665": {
          "model_module": "@jupyter-widgets/base",
          "model_name": "LayoutModel",
          "model_module_version": "1.2.0",
          "state": {
            "_model_module": "@jupyter-widgets/base",
            "_model_module_version": "1.2.0",
            "_model_name": "LayoutModel",
            "_view_count": null,
            "_view_module": "@jupyter-widgets/base",
            "_view_module_version": "1.2.0",
            "_view_name": "LayoutView",
            "align_content": null,
            "align_items": null,
            "align_self": null,
            "border": null,
            "bottom": null,
            "display": null,
            "flex": null,
            "flex_flow": null,
            "grid_area": null,
            "grid_auto_columns": null,
            "grid_auto_flow": null,
            "grid_auto_rows": null,
            "grid_column": null,
            "grid_gap": null,
            "grid_row": null,
            "grid_template_areas": null,
            "grid_template_columns": null,
            "grid_template_rows": null,
            "height": null,
            "justify_content": null,
            "justify_items": null,
            "left": null,
            "margin": null,
            "max_height": null,
            "max_width": null,
            "min_height": null,
            "min_width": null,
            "object_fit": null,
            "object_position": null,
            "order": null,
            "overflow": null,
            "overflow_x": null,
            "overflow_y": null,
            "padding": null,
            "right": null,
            "top": null,
            "visibility": null,
            "width": null
          }
        },
        "2301cb4ac2a4493fb4437470c0efa3c5": {
          "model_module": "@jupyter-widgets/controls",
          "model_name": "ProgressStyleModel",
          "model_module_version": "1.5.0",
          "state": {
            "_model_module": "@jupyter-widgets/controls",
            "_model_module_version": "1.5.0",
            "_model_name": "ProgressStyleModel",
            "_view_count": null,
            "_view_module": "@jupyter-widgets/base",
            "_view_module_version": "1.2.0",
            "_view_name": "StyleView",
            "bar_color": null,
            "description_width": ""
          }
        },
        "6680407a65f144a791e78467b0d801e3": {
          "model_module": "@jupyter-widgets/base",
          "model_name": "LayoutModel",
          "model_module_version": "1.2.0",
          "state": {
            "_model_module": "@jupyter-widgets/base",
            "_model_module_version": "1.2.0",
            "_model_name": "LayoutModel",
            "_view_count": null,
            "_view_module": "@jupyter-widgets/base",
            "_view_module_version": "1.2.0",
            "_view_name": "LayoutView",
            "align_content": null,
            "align_items": null,
            "align_self": null,
            "border": null,
            "bottom": null,
            "display": null,
            "flex": null,
            "flex_flow": null,
            "grid_area": null,
            "grid_auto_columns": null,
            "grid_auto_flow": null,
            "grid_auto_rows": null,
            "grid_column": null,
            "grid_gap": null,
            "grid_row": null,
            "grid_template_areas": null,
            "grid_template_columns": null,
            "grid_template_rows": null,
            "height": null,
            "justify_content": null,
            "justify_items": null,
            "left": null,
            "margin": null,
            "max_height": null,
            "max_width": null,
            "min_height": null,
            "min_width": null,
            "object_fit": null,
            "object_position": null,
            "order": null,
            "overflow": null,
            "overflow_x": null,
            "overflow_y": null,
            "padding": null,
            "right": null,
            "top": null,
            "visibility": null,
            "width": null
          }
        },
        "d6337e80a56341c791e772fc5c65648e": {
          "model_module": "@jupyter-widgets/controls",
          "model_name": "DescriptionStyleModel",
          "model_module_version": "1.5.0",
          "state": {
            "_model_module": "@jupyter-widgets/controls",
            "_model_module_version": "1.5.0",
            "_model_name": "DescriptionStyleModel",
            "_view_count": null,
            "_view_module": "@jupyter-widgets/base",
            "_view_module_version": "1.2.0",
            "_view_name": "StyleView",
            "description_width": ""
          }
        },
        "a11cff0dc20e47aebee59fd6a7006442": {
          "model_module": "@jupyter-widgets/controls",
          "model_name": "HBoxModel",
          "model_module_version": "1.5.0",
          "state": {
            "_dom_classes": [],
            "_model_module": "@jupyter-widgets/controls",
            "_model_module_version": "1.5.0",
            "_model_name": "HBoxModel",
            "_view_count": null,
            "_view_module": "@jupyter-widgets/controls",
            "_view_module_version": "1.5.0",
            "_view_name": "HBoxView",
            "box_style": "",
            "children": [
              "IPY_MODEL_65abbf36dd1a4a659e7526718149d9b8",
              "IPY_MODEL_26f060032fcb407590b4d1e9e38bb0a6",
              "IPY_MODEL_984f1c20a40948b2bc3ea462e79484cf"
            ],
            "layout": "IPY_MODEL_29e41e1d89704a00b447e3fc776e0863"
          }
        },
        "65abbf36dd1a4a659e7526718149d9b8": {
          "model_module": "@jupyter-widgets/controls",
          "model_name": "HTMLModel",
          "model_module_version": "1.5.0",
          "state": {
            "_dom_classes": [],
            "_model_module": "@jupyter-widgets/controls",
            "_model_module_version": "1.5.0",
            "_model_name": "HTMLModel",
            "_view_count": null,
            "_view_module": "@jupyter-widgets/controls",
            "_view_module_version": "1.5.0",
            "_view_name": "HTMLView",
            "description": "",
            "description_tooltip": null,
            "layout": "IPY_MODEL_44d241d241b048588ad6c0e2ff0625b9",
            "placeholder": "​",
            "style": "IPY_MODEL_a69529c071d64996acd31aa4f20229ad",
            "value": "Creating CSV from Arrow format: 100%"
          }
        },
        "26f060032fcb407590b4d1e9e38bb0a6": {
          "model_module": "@jupyter-widgets/controls",
          "model_name": "FloatProgressModel",
          "model_module_version": "1.5.0",
          "state": {
            "_dom_classes": [],
            "_model_module": "@jupyter-widgets/controls",
            "_model_module_version": "1.5.0",
            "_model_name": "FloatProgressModel",
            "_view_count": null,
            "_view_module": "@jupyter-widgets/controls",
            "_view_module_version": "1.5.0",
            "_view_name": "ProgressView",
            "bar_style": "success",
            "description": "",
            "description_tooltip": null,
            "layout": "IPY_MODEL_ac94936d74db46ccbe56e89d6d9f76b0",
            "max": 1374,
            "min": 0,
            "orientation": "horizontal",
            "style": "IPY_MODEL_9dd57df45dc5480288f452619ef481b8",
            "value": 1374
          }
        },
        "984f1c20a40948b2bc3ea462e79484cf": {
          "model_module": "@jupyter-widgets/controls",
          "model_name": "HTMLModel",
          "model_module_version": "1.5.0",
          "state": {
            "_dom_classes": [],
            "_model_module": "@jupyter-widgets/controls",
            "_model_module_version": "1.5.0",
            "_model_name": "HTMLModel",
            "_view_count": null,
            "_view_module": "@jupyter-widgets/controls",
            "_view_module_version": "1.5.0",
            "_view_name": "HTMLView",
            "description": "",
            "description_tooltip": null,
            "layout": "IPY_MODEL_7cafdbb0a3fe41b799428e31a5a1e6a1",
            "placeholder": "​",
            "style": "IPY_MODEL_f36e78af122f4852a684f043ee10e32b",
            "value": " 1374/1374 [03:02&lt;00:00, 11.29ba/s]"
          }
        },
        "29e41e1d89704a00b447e3fc776e0863": {
          "model_module": "@jupyter-widgets/base",
          "model_name": "LayoutModel",
          "model_module_version": "1.2.0",
          "state": {
            "_model_module": "@jupyter-widgets/base",
            "_model_module_version": "1.2.0",
            "_model_name": "LayoutModel",
            "_view_count": null,
            "_view_module": "@jupyter-widgets/base",
            "_view_module_version": "1.2.0",
            "_view_name": "LayoutView",
            "align_content": null,
            "align_items": null,
            "align_self": null,
            "border": null,
            "bottom": null,
            "display": null,
            "flex": null,
            "flex_flow": null,
            "grid_area": null,
            "grid_auto_columns": null,
            "grid_auto_flow": null,
            "grid_auto_rows": null,
            "grid_column": null,
            "grid_gap": null,
            "grid_row": null,
            "grid_template_areas": null,
            "grid_template_columns": null,
            "grid_template_rows": null,
            "height": null,
            "justify_content": null,
            "justify_items": null,
            "left": null,
            "margin": null,
            "max_height": null,
            "max_width": null,
            "min_height": null,
            "min_width": null,
            "object_fit": null,
            "object_position": null,
            "order": null,
            "overflow": null,
            "overflow_x": null,
            "overflow_y": null,
            "padding": null,
            "right": null,
            "top": null,
            "visibility": null,
            "width": null
          }
        },
        "44d241d241b048588ad6c0e2ff0625b9": {
          "model_module": "@jupyter-widgets/base",
          "model_name": "LayoutModel",
          "model_module_version": "1.2.0",
          "state": {
            "_model_module": "@jupyter-widgets/base",
            "_model_module_version": "1.2.0",
            "_model_name": "LayoutModel",
            "_view_count": null,
            "_view_module": "@jupyter-widgets/base",
            "_view_module_version": "1.2.0",
            "_view_name": "LayoutView",
            "align_content": null,
            "align_items": null,
            "align_self": null,
            "border": null,
            "bottom": null,
            "display": null,
            "flex": null,
            "flex_flow": null,
            "grid_area": null,
            "grid_auto_columns": null,
            "grid_auto_flow": null,
            "grid_auto_rows": null,
            "grid_column": null,
            "grid_gap": null,
            "grid_row": null,
            "grid_template_areas": null,
            "grid_template_columns": null,
            "grid_template_rows": null,
            "height": null,
            "justify_content": null,
            "justify_items": null,
            "left": null,
            "margin": null,
            "max_height": null,
            "max_width": null,
            "min_height": null,
            "min_width": null,
            "object_fit": null,
            "object_position": null,
            "order": null,
            "overflow": null,
            "overflow_x": null,
            "overflow_y": null,
            "padding": null,
            "right": null,
            "top": null,
            "visibility": null,
            "width": null
          }
        },
        "a69529c071d64996acd31aa4f20229ad": {
          "model_module": "@jupyter-widgets/controls",
          "model_name": "DescriptionStyleModel",
          "model_module_version": "1.5.0",
          "state": {
            "_model_module": "@jupyter-widgets/controls",
            "_model_module_version": "1.5.0",
            "_model_name": "DescriptionStyleModel",
            "_view_count": null,
            "_view_module": "@jupyter-widgets/base",
            "_view_module_version": "1.2.0",
            "_view_name": "StyleView",
            "description_width": ""
          }
        },
        "ac94936d74db46ccbe56e89d6d9f76b0": {
          "model_module": "@jupyter-widgets/base",
          "model_name": "LayoutModel",
          "model_module_version": "1.2.0",
          "state": {
            "_model_module": "@jupyter-widgets/base",
            "_model_module_version": "1.2.0",
            "_model_name": "LayoutModel",
            "_view_count": null,
            "_view_module": "@jupyter-widgets/base",
            "_view_module_version": "1.2.0",
            "_view_name": "LayoutView",
            "align_content": null,
            "align_items": null,
            "align_self": null,
            "border": null,
            "bottom": null,
            "display": null,
            "flex": null,
            "flex_flow": null,
            "grid_area": null,
            "grid_auto_columns": null,
            "grid_auto_flow": null,
            "grid_auto_rows": null,
            "grid_column": null,
            "grid_gap": null,
            "grid_row": null,
            "grid_template_areas": null,
            "grid_template_columns": null,
            "grid_template_rows": null,
            "height": null,
            "justify_content": null,
            "justify_items": null,
            "left": null,
            "margin": null,
            "max_height": null,
            "max_width": null,
            "min_height": null,
            "min_width": null,
            "object_fit": null,
            "object_position": null,
            "order": null,
            "overflow": null,
            "overflow_x": null,
            "overflow_y": null,
            "padding": null,
            "right": null,
            "top": null,
            "visibility": null,
            "width": null
          }
        },
        "9dd57df45dc5480288f452619ef481b8": {
          "model_module": "@jupyter-widgets/controls",
          "model_name": "ProgressStyleModel",
          "model_module_version": "1.5.0",
          "state": {
            "_model_module": "@jupyter-widgets/controls",
            "_model_module_version": "1.5.0",
            "_model_name": "ProgressStyleModel",
            "_view_count": null,
            "_view_module": "@jupyter-widgets/base",
            "_view_module_version": "1.2.0",
            "_view_name": "StyleView",
            "bar_color": null,
            "description_width": ""
          }
        },
        "7cafdbb0a3fe41b799428e31a5a1e6a1": {
          "model_module": "@jupyter-widgets/base",
          "model_name": "LayoutModel",
          "model_module_version": "1.2.0",
          "state": {
            "_model_module": "@jupyter-widgets/base",
            "_model_module_version": "1.2.0",
            "_model_name": "LayoutModel",
            "_view_count": null,
            "_view_module": "@jupyter-widgets/base",
            "_view_module_version": "1.2.0",
            "_view_name": "LayoutView",
            "align_content": null,
            "align_items": null,
            "align_self": null,
            "border": null,
            "bottom": null,
            "display": null,
            "flex": null,
            "flex_flow": null,
            "grid_area": null,
            "grid_auto_columns": null,
            "grid_auto_flow": null,
            "grid_auto_rows": null,
            "grid_column": null,
            "grid_gap": null,
            "grid_row": null,
            "grid_template_areas": null,
            "grid_template_columns": null,
            "grid_template_rows": null,
            "height": null,
            "justify_content": null,
            "justify_items": null,
            "left": null,
            "margin": null,
            "max_height": null,
            "max_width": null,
            "min_height": null,
            "min_width": null,
            "object_fit": null,
            "object_position": null,
            "order": null,
            "overflow": null,
            "overflow_x": null,
            "overflow_y": null,
            "padding": null,
            "right": null,
            "top": null,
            "visibility": null,
            "width": null
          }
        },
        "f36e78af122f4852a684f043ee10e32b": {
          "model_module": "@jupyter-widgets/controls",
          "model_name": "DescriptionStyleModel",
          "model_module_version": "1.5.0",
          "state": {
            "_model_module": "@jupyter-widgets/controls",
            "_model_module_version": "1.5.0",
            "_model_name": "DescriptionStyleModel",
            "_view_count": null,
            "_view_module": "@jupyter-widgets/base",
            "_view_module_version": "1.2.0",
            "_view_name": "StyleView",
            "description_width": ""
          }
        },
        "1f5986fa4fa04b6bb5e5af9d5ab985ec": {
          "model_module": "@jupyter-widgets/controls",
          "model_name": "HBoxModel",
          "model_module_version": "1.5.0",
          "state": {
            "_dom_classes": [],
            "_model_module": "@jupyter-widgets/controls",
            "_model_module_version": "1.5.0",
            "_model_name": "HBoxModel",
            "_view_count": null,
            "_view_module": "@jupyter-widgets/controls",
            "_view_module_version": "1.5.0",
            "_view_name": "HBoxView",
            "box_style": "",
            "children": [
              "IPY_MODEL_1d96210532af44d4bf2b10a1705e0cad",
              "IPY_MODEL_1c6b985769b1432097a7f82036a265c0",
              "IPY_MODEL_72cc9a8e895c4294bf6f56e928fa973c"
            ],
            "layout": "IPY_MODEL_f45648a00f83416a9a8258936cd3b6cc"
          }
        },
        "1d96210532af44d4bf2b10a1705e0cad": {
          "model_module": "@jupyter-widgets/controls",
          "model_name": "HTMLModel",
          "model_module_version": "1.5.0",
          "state": {
            "_dom_classes": [],
            "_model_module": "@jupyter-widgets/controls",
            "_model_module_version": "1.5.0",
            "_model_name": "HTMLModel",
            "_view_count": null,
            "_view_module": "@jupyter-widgets/controls",
            "_view_module_version": "1.5.0",
            "_view_name": "HTMLView",
            "description": "",
            "description_tooltip": null,
            "layout": "IPY_MODEL_a42c420216cd4fb9a1766da6cb77cf6b",
            "placeholder": "​",
            "style": "IPY_MODEL_e00bbb23750f4389bff338e4b5eaa427",
            "value": "Creating CSV from Arrow format: 100%"
          }
        },
        "1c6b985769b1432097a7f82036a265c0": {
          "model_module": "@jupyter-widgets/controls",
          "model_name": "FloatProgressModel",
          "model_module_version": "1.5.0",
          "state": {
            "_dom_classes": [],
            "_model_module": "@jupyter-widgets/controls",
            "_model_module_version": "1.5.0",
            "_model_name": "FloatProgressModel",
            "_view_count": null,
            "_view_module": "@jupyter-widgets/controls",
            "_view_module_version": "1.5.0",
            "_view_name": "ProgressView",
            "bar_style": "success",
            "description": "",
            "description_tooltip": null,
            "layout": "IPY_MODEL_497dc6b66c6b4d89af8e9728decb20be",
            "max": 4,
            "min": 0,
            "orientation": "horizontal",
            "style": "IPY_MODEL_8e9ef42435024fc097fd499909685c17",
            "value": 4
          }
        },
        "72cc9a8e895c4294bf6f56e928fa973c": {
          "model_module": "@jupyter-widgets/controls",
          "model_name": "HTMLModel",
          "model_module_version": "1.5.0",
          "state": {
            "_dom_classes": [],
            "_model_module": "@jupyter-widgets/controls",
            "_model_module_version": "1.5.0",
            "_model_name": "HTMLModel",
            "_view_count": null,
            "_view_module": "@jupyter-widgets/controls",
            "_view_module_version": "1.5.0",
            "_view_name": "HTMLView",
            "description": "",
            "description_tooltip": null,
            "layout": "IPY_MODEL_a7e40055dbaa43e2965bfdeb802274d0",
            "placeholder": "​",
            "style": "IPY_MODEL_47a986386a794d009395092652aaff3d",
            "value": " 4/4 [00:00&lt;00:00, 37.06ba/s]"
          }
        },
        "f45648a00f83416a9a8258936cd3b6cc": {
          "model_module": "@jupyter-widgets/base",
          "model_name": "LayoutModel",
          "model_module_version": "1.2.0",
          "state": {
            "_model_module": "@jupyter-widgets/base",
            "_model_module_version": "1.2.0",
            "_model_name": "LayoutModel",
            "_view_count": null,
            "_view_module": "@jupyter-widgets/base",
            "_view_module_version": "1.2.0",
            "_view_name": "LayoutView",
            "align_content": null,
            "align_items": null,
            "align_self": null,
            "border": null,
            "bottom": null,
            "display": null,
            "flex": null,
            "flex_flow": null,
            "grid_area": null,
            "grid_auto_columns": null,
            "grid_auto_flow": null,
            "grid_auto_rows": null,
            "grid_column": null,
            "grid_gap": null,
            "grid_row": null,
            "grid_template_areas": null,
            "grid_template_columns": null,
            "grid_template_rows": null,
            "height": null,
            "justify_content": null,
            "justify_items": null,
            "left": null,
            "margin": null,
            "max_height": null,
            "max_width": null,
            "min_height": null,
            "min_width": null,
            "object_fit": null,
            "object_position": null,
            "order": null,
            "overflow": null,
            "overflow_x": null,
            "overflow_y": null,
            "padding": null,
            "right": null,
            "top": null,
            "visibility": null,
            "width": null
          }
        },
        "a42c420216cd4fb9a1766da6cb77cf6b": {
          "model_module": "@jupyter-widgets/base",
          "model_name": "LayoutModel",
          "model_module_version": "1.2.0",
          "state": {
            "_model_module": "@jupyter-widgets/base",
            "_model_module_version": "1.2.0",
            "_model_name": "LayoutModel",
            "_view_count": null,
            "_view_module": "@jupyter-widgets/base",
            "_view_module_version": "1.2.0",
            "_view_name": "LayoutView",
            "align_content": null,
            "align_items": null,
            "align_self": null,
            "border": null,
            "bottom": null,
            "display": null,
            "flex": null,
            "flex_flow": null,
            "grid_area": null,
            "grid_auto_columns": null,
            "grid_auto_flow": null,
            "grid_auto_rows": null,
            "grid_column": null,
            "grid_gap": null,
            "grid_row": null,
            "grid_template_areas": null,
            "grid_template_columns": null,
            "grid_template_rows": null,
            "height": null,
            "justify_content": null,
            "justify_items": null,
            "left": null,
            "margin": null,
            "max_height": null,
            "max_width": null,
            "min_height": null,
            "min_width": null,
            "object_fit": null,
            "object_position": null,
            "order": null,
            "overflow": null,
            "overflow_x": null,
            "overflow_y": null,
            "padding": null,
            "right": null,
            "top": null,
            "visibility": null,
            "width": null
          }
        },
        "e00bbb23750f4389bff338e4b5eaa427": {
          "model_module": "@jupyter-widgets/controls",
          "model_name": "DescriptionStyleModel",
          "model_module_version": "1.5.0",
          "state": {
            "_model_module": "@jupyter-widgets/controls",
            "_model_module_version": "1.5.0",
            "_model_name": "DescriptionStyleModel",
            "_view_count": null,
            "_view_module": "@jupyter-widgets/base",
            "_view_module_version": "1.2.0",
            "_view_name": "StyleView",
            "description_width": ""
          }
        },
        "497dc6b66c6b4d89af8e9728decb20be": {
          "model_module": "@jupyter-widgets/base",
          "model_name": "LayoutModel",
          "model_module_version": "1.2.0",
          "state": {
            "_model_module": "@jupyter-widgets/base",
            "_model_module_version": "1.2.0",
            "_model_name": "LayoutModel",
            "_view_count": null,
            "_view_module": "@jupyter-widgets/base",
            "_view_module_version": "1.2.0",
            "_view_name": "LayoutView",
            "align_content": null,
            "align_items": null,
            "align_self": null,
            "border": null,
            "bottom": null,
            "display": null,
            "flex": null,
            "flex_flow": null,
            "grid_area": null,
            "grid_auto_columns": null,
            "grid_auto_flow": null,
            "grid_auto_rows": null,
            "grid_column": null,
            "grid_gap": null,
            "grid_row": null,
            "grid_template_areas": null,
            "grid_template_columns": null,
            "grid_template_rows": null,
            "height": null,
            "justify_content": null,
            "justify_items": null,
            "left": null,
            "margin": null,
            "max_height": null,
            "max_width": null,
            "min_height": null,
            "min_width": null,
            "object_fit": null,
            "object_position": null,
            "order": null,
            "overflow": null,
            "overflow_x": null,
            "overflow_y": null,
            "padding": null,
            "right": null,
            "top": null,
            "visibility": null,
            "width": null
          }
        },
        "8e9ef42435024fc097fd499909685c17": {
          "model_module": "@jupyter-widgets/controls",
          "model_name": "ProgressStyleModel",
          "model_module_version": "1.5.0",
          "state": {
            "_model_module": "@jupyter-widgets/controls",
            "_model_module_version": "1.5.0",
            "_model_name": "ProgressStyleModel",
            "_view_count": null,
            "_view_module": "@jupyter-widgets/base",
            "_view_module_version": "1.2.0",
            "_view_name": "StyleView",
            "bar_color": null,
            "description_width": ""
          }
        },
        "a7e40055dbaa43e2965bfdeb802274d0": {
          "model_module": "@jupyter-widgets/base",
          "model_name": "LayoutModel",
          "model_module_version": "1.2.0",
          "state": {
            "_model_module": "@jupyter-widgets/base",
            "_model_module_version": "1.2.0",
            "_model_name": "LayoutModel",
            "_view_count": null,
            "_view_module": "@jupyter-widgets/base",
            "_view_module_version": "1.2.0",
            "_view_name": "LayoutView",
            "align_content": null,
            "align_items": null,
            "align_self": null,
            "border": null,
            "bottom": null,
            "display": null,
            "flex": null,
            "flex_flow": null,
            "grid_area": null,
            "grid_auto_columns": null,
            "grid_auto_flow": null,
            "grid_auto_rows": null,
            "grid_column": null,
            "grid_gap": null,
            "grid_row": null,
            "grid_template_areas": null,
            "grid_template_columns": null,
            "grid_template_rows": null,
            "height": null,
            "justify_content": null,
            "justify_items": null,
            "left": null,
            "margin": null,
            "max_height": null,
            "max_width": null,
            "min_height": null,
            "min_width": null,
            "object_fit": null,
            "object_position": null,
            "order": null,
            "overflow": null,
            "overflow_x": null,
            "overflow_y": null,
            "padding": null,
            "right": null,
            "top": null,
            "visibility": null,
            "width": null
          }
        },
        "47a986386a794d009395092652aaff3d": {
          "model_module": "@jupyter-widgets/controls",
          "model_name": "DescriptionStyleModel",
          "model_module_version": "1.5.0",
          "state": {
            "_model_module": "@jupyter-widgets/controls",
            "_model_module_version": "1.5.0",
            "_model_name": "DescriptionStyleModel",
            "_view_count": null,
            "_view_module": "@jupyter-widgets/base",
            "_view_module_version": "1.2.0",
            "_view_name": "StyleView",
            "description_width": ""
          }
        }
      }
    }
  },
  "cells": [
    {
      "cell_type": "markdown",
      "metadata": {
        "id": "view-in-github",
        "colab_type": "text"
      },
      "source": [
        "<a href=\"https://colab.research.google.com/github/ttya16/llm-dev-practice/blob/main/notebooks/pt1_prepare_dataset.ipynb\" target=\"_parent\"><img src=\"https://colab.research.google.com/assets/colab-badge.svg\" alt=\"Open In Colab\"/></a>"
      ]
    },
    {
      "cell_type": "markdown",
      "source": [
        "# Prepare Dataset for Pretraining\n",
        "\n",
        "## Find your source dataset\n",
        "For here, we will use the dataset down below for practice.  \n",
        "https://huggingface.co/datasets/fujiki/llm-japanese-dataset_wikinews?row=0&library=true"
      ],
      "metadata": {
        "id": "7LVpu-p2DqTT"
      }
    },
    {
      "cell_type": "code",
      "source": [
        "!pip install -q -U datasets\n",
        "!pip install -q -U sentencepiece\n",
        "!pip install -q -U transformers"
      ],
      "metadata": {
        "colab": {
          "base_uri": "https://localhost:8080/"
        },
        "id": "vka4_HJDvTZG",
        "outputId": "4121069d-a17e-4b42-ca56-a89bae16a423"
      },
      "execution_count": 1,
      "outputs": [
        {
          "output_type": "stream",
          "name": "stdout",
          "text": [
            "\u001b[2K     \u001b[90m━━━━━━━━━━━━━━━━━━━━━━━━━━━━━━━━━━━━━━━━\u001b[0m \u001b[32m510.5/510.5 kB\u001b[0m \u001b[31m10.7 MB/s\u001b[0m eta \u001b[36m0:00:00\u001b[0m\n",
            "\u001b[2K     \u001b[90m━━━━━━━━━━━━━━━━━━━━━━━━━━━━━━━━━━━━━━━━\u001b[0m \u001b[32m116.3/116.3 kB\u001b[0m \u001b[31m17.6 MB/s\u001b[0m eta \u001b[36m0:00:00\u001b[0m\n",
            "\u001b[2K     \u001b[90m━━━━━━━━━━━━━━━━━━━━━━━━━━━━━━━━━━━━━━━━\u001b[0m \u001b[32m194.1/194.1 kB\u001b[0m \u001b[31m16.4 MB/s\u001b[0m eta \u001b[36m0:00:00\u001b[0m\n",
            "\u001b[2K     \u001b[90m━━━━━━━━━━━━━━━━━━━━━━━━━━━━━━━━━━━━━━━━\u001b[0m \u001b[32m134.8/134.8 kB\u001b[0m \u001b[31m15.3 MB/s\u001b[0m eta \u001b[36m0:00:00\u001b[0m\n",
            "\u001b[2K     \u001b[90m━━━━━━━━━━━━━━━━━━━━━━━━━━━━━━━━━━━━━━━━\u001b[0m \u001b[32m1.3/1.3 MB\u001b[0m \u001b[31m20.7 MB/s\u001b[0m eta \u001b[36m0:00:00\u001b[0m\n",
            "\u001b[2K     \u001b[90m━━━━━━━━━━━━━━━━━━━━━━━━━━━━━━━━━━━━━━━━\u001b[0m \u001b[32m8.8/8.8 MB\u001b[0m \u001b[31m75.6 MB/s\u001b[0m eta \u001b[36m0:00:00\u001b[0m\n",
            "\u001b[?25h"
          ]
        }
      ]
    },
    {
      "cell_type": "code",
      "source": [
        "import torch\n",
        "\n",
        "from torch import nn\n",
        "from torch.nn import functional as F\n",
        "\n",
        "from datasets import load_dataset, load_from_disk\n",
        "from datasets import Dataset\n",
        "\n",
        "import numpy as np\n",
        "\n",
        "from matplotlib import pyplot as plt\n",
        "\n",
        "import time\n",
        "import pandas as pd\n",
        "import urllib.request\n",
        "\n",
        "import csv"
      ],
      "metadata": {
        "id": "UYT1QwfNr25Q"
      },
      "execution_count": 2,
      "outputs": []
    },
    {
      "cell_type": "code",
      "source": [
        "%%time\n",
        "!GIT_LFS_SKIP_SMUDGE=1 git clone https://huggingface.co/datasets/graelo/wikipedia.git\n",
        "%cd wikipedia/data/20230601/ja/\n",
        "!git lfs pull --include \"train-*-of-0015.parquet\"\n",
        "%cd ../../../../"
      ],
      "metadata": {
        "colab": {
          "base_uri": "https://localhost:8080/"
        },
        "id": "yqRswkpm4kp4",
        "outputId": "7fa85aa1-bd85-44e8-cef6-c35344a41d02"
      },
      "execution_count": null,
      "outputs": [
        {
          "output_type": "stream",
          "name": "stdout",
          "text": [
            "Cloning into 'wikipedia'...\n",
            "remote: Enumerating objects: 2001, done.\u001b[K\n",
            "remote: Total 2001 (delta 0), reused 0 (delta 0), pack-reused 2001\u001b[K\n",
            "Receiving objects: 100% (2001/2001), 255.29 KiB | 6.90 MiB/s, done.\n",
            "Resolving deltas: 100% (615/615), done.\n",
            "/content/wikipedia/data/20230601/ja\n",
            "/content\n",
            "CPU times: user 2.77 s, sys: 387 ms, total: 3.15 s\n",
            "Wall time: 3min 33s\n"
          ]
        }
      ]
    },
    {
      "cell_type": "code",
      "source": [
        "%cd wikipedia/data/20230901/ja/\n",
        "!git lfs pull --include \"train-*-of-0016.parquet\"\n",
        "%cd ../../../../"
      ],
      "metadata": {
        "id": "ep4VvYBx6PlD"
      },
      "execution_count": null,
      "outputs": []
    },
    {
      "cell_type": "code",
      "execution_count": null,
      "metadata": {
        "id": "rRFKe3znC18B",
        "colab": {
          "base_uri": "https://localhost:8080/",
          "height": 49,
          "referenced_widgets": [
            "b16c8029c3f44a7293de43c5f140a59c",
            "2ffd691fcd46465c8085aaf9e541a035",
            "7adf266dcd3e422bb45b821816243132",
            "99ce7620450b4c4c8a3b0772e1bca4de",
            "94a187e4b3374d58aefb4e370d7b1b2f",
            "9480612563ab4241a36c4093d52a96e9",
            "07b5d849200a4cebaf062d50cf93c713",
            "86ba7f4740c64c69aada3ed2781b7bfd",
            "4f63b696359141deb6e52d93254cc07a",
            "412f8805adc847098e7f17312aba5a80",
            "89e797910a664507a6cdb2d5e5be44b9"
          ]
        },
        "outputId": "da57c9fe-8512-4418-a908-2d85abd93503"
      },
      "outputs": [
        {
          "output_type": "display_data",
          "data": {
            "text/plain": [
              "Generating train split: 0 examples [00:00, ? examples/s]"
            ],
            "application/vnd.jupyter.widget-view+json": {
              "version_major": 2,
              "version_minor": 0,
              "model_id": "b16c8029c3f44a7293de43c5f140a59c"
            }
          },
          "metadata": {}
        }
      ],
      "source": [
        "# japanese wikipedia/wikinews\n",
        "\n",
        "wikipedia_ds = load_dataset(\"wikipedia/data/20230601/ja/\", data_files=\"train-*-of-0015.parquet\", split=\"train\")"
      ]
    },
    {
      "cell_type": "code",
      "source": [
        "wikinews_ds = load_dataset(\"fujiki/llm-japanese-dataset_wikinews\", split=\"train\")"
      ],
      "metadata": {
        "id": "5v8Q7__Q7xnm"
      },
      "execution_count": null,
      "outputs": []
    },
    {
      "cell_type": "code",
      "source": [
        "wikinews_ds[\"input\"][0]"
      ],
      "metadata": {
        "colab": {
          "base_uri": "https://localhost:8080/",
          "height": 231
        },
        "id": "sXCUBBLe9Ub-",
        "outputId": "1184557d-b47a-43a9-862b-d2ba0e40b55c"
      },
      "execution_count": null,
      "outputs": [
        {
          "output_type": "execute_result",
          "data": {
            "text/plain": [
              "'台湾の自由時報によると、3日、陳水扁総統夫人の呉淑珍氏と馬永成元総統府副秘書長、林徳訓総統府秘書らが国務機密費の流用容疑で、台北地方検察院により起訴された。台北地検は、総統夫人を主犯、総統府秘書であった馬氏、林氏の両名が共犯と認定した。読売新聞によれば、呉氏は2002年7月から2006年3月までの間に、機密費1,480万台湾ドル（日本円で約5,300万円）を横領し、指輪の購入など私的な目的に流用した疑いが持たれている。台北地検は陳総統本人も文書を偽造するなどして関与したと認定しているが、在任中の総統であるため、起訴することができなかった。これに対して、与党の民進党は呉総統夫人の起訴について中央評議会で審議するとともに、陳総統に対して国民の前で説明するよう要求した。自由時報によれば、野党の中国国民党と親民党は48時間以内に陳総統が辞任する事を求めた。もしそれが受け入れられなければ3回目の総統罷免案を立法院で動議する方針である。また民進党と政治的主張が近い台湾団結聯盟も、今回の罷免案に賛成する意向である。台湾団結聯盟の精神的指導者である李登輝・前総統も、12月9日に予定されている台北・高雄両直轄市の市長・市議会議員選挙において民進党候補を支援しないと述べている。一方、西日本新聞によれば、陳総統は5日夜、テレビで、「私的流用はなく、横領ではない」と述べ、容疑を否定した。また、「一審で有罪判決ならば総統を辞任する」と述べた。'"
            ],
            "application/vnd.google.colaboratory.intrinsic+json": {
              "type": "string"
            }
          },
          "metadata": {},
          "execution_count": 32
        }
      ]
    },
    {
      "cell_type": "code",
      "source": [
        "# 事前学習に使うデータをテキストファイルへ書き出す\n",
        "wikinews_ds.to_csv(\"wikinews.txt\", columns=[\"input\"], sep=\"\\t\", index=False, header=False)"
      ],
      "metadata": {
        "colab": {
          "base_uri": "https://localhost:8080/",
          "height": 67,
          "referenced_widgets": [
            "7aa90a6842fd4ec09926af968a8d02db",
            "a4d06b5c286d476ba6f664ca368c675b",
            "6abea1d60be24c899c56e5b5ff2d392e",
            "c13913282ce04694a0022e76bfd41de4",
            "e6b7e7f1eca94e3e8ece9c5556be9e21",
            "93c1fb96217b45a3bd9793903c9c170a",
            "2e92bb50bb6041c4ac1a8dc0436776b1",
            "65dded71c42440108ce63142ea816665",
            "2301cb4ac2a4493fb4437470c0efa3c5",
            "6680407a65f144a791e78467b0d801e3",
            "d6337e80a56341c791e772fc5c65648e"
          ]
        },
        "id": "kOuA9hej6wly",
        "outputId": "643ddd78-96f5-4223-d500-d28abaaafb4f"
      },
      "execution_count": null,
      "outputs": [
        {
          "output_type": "display_data",
          "data": {
            "text/plain": [
              "Creating CSV from Arrow format:   0%|          | 0/5 [00:00<?, ?ba/s]"
            ],
            "application/vnd.jupyter.widget-view+json": {
              "version_major": 2,
              "version_minor": 0,
              "model_id": "7aa90a6842fd4ec09926af968a8d02db"
            }
          },
          "metadata": {}
        },
        {
          "output_type": "execute_result",
          "data": {
            "text/plain": [
              "6328390"
            ]
          },
          "metadata": {},
          "execution_count": 33
        }
      ]
    },
    {
      "cell_type": "code",
      "source": [
        "wikipedia_ds.to_csv(\"wikipedia.txt\", columns=[\"text\"], sep=\"\\t\", index=False, header=False, quoting=csv.QUOTE_NONE, escapechar=\"\\\\\")"
      ],
      "metadata": {
        "colab": {
          "base_uri": "https://localhost:8080/",
          "height": 67,
          "referenced_widgets": [
            "a11cff0dc20e47aebee59fd6a7006442",
            "65abbf36dd1a4a659e7526718149d9b8",
            "26f060032fcb407590b4d1e9e38bb0a6",
            "984f1c20a40948b2bc3ea462e79484cf",
            "29e41e1d89704a00b447e3fc776e0863",
            "44d241d241b048588ad6c0e2ff0625b9",
            "a69529c071d64996acd31aa4f20229ad",
            "ac94936d74db46ccbe56e89d6d9f76b0",
            "9dd57df45dc5480288f452619ef481b8",
            "7cafdbb0a3fe41b799428e31a5a1e6a1",
            "f36e78af122f4852a684f043ee10e32b"
          ]
        },
        "id": "EMHjsNT5zadt",
        "outputId": "f481b73a-a114-46f1-ef99-7cb0149079c2"
      },
      "execution_count": null,
      "outputs": [
        {
          "output_type": "display_data",
          "data": {
            "text/plain": [
              "Creating CSV from Arrow format:   0%|          | 0/1374 [00:00<?, ?ba/s]"
            ],
            "application/vnd.jupyter.widget-view+json": {
              "version_major": 2,
              "version_minor": 0,
              "model_id": "a11cff0dc20e47aebee59fd6a7006442"
            }
          },
          "metadata": {}
        },
        {
          "output_type": "execute_result",
          "data": {
            "text/plain": [
              "6802686716"
            ]
          },
          "metadata": {},
          "execution_count": 34
        }
      ]
    },
    {
      "cell_type": "code",
      "source": [
        "# Save raw data for easier access\n",
        "from google.colab import drive\n",
        "import shutil\n",
        "import os\n",
        "\n",
        "drive.mount('/content/drive')"
      ],
      "metadata": {
        "colab": {
          "base_uri": "https://localhost:8080/"
        },
        "id": "-jqf1S3R_I4c",
        "outputId": "3c8a1806-a033-449c-aa73-9603656aab24"
      },
      "execution_count": 3,
      "outputs": [
        {
          "output_type": "stream",
          "name": "stdout",
          "text": [
            "Mounted at /content/drive\n"
          ]
        }
      ]
    },
    {
      "cell_type": "code",
      "source": [
        "path_to_dataset_in_drive = \"/content/drive/MyDrive/llm/dataset\"\n",
        "os.makedirs(path_to_dataset_in_drive, exist_ok=True)\n",
        "\n",
        "# shutil.copyfile(\"wikinews.txt\", os.path.join(path_to_dataset_in_drive, \"wikinews.txt\"))\n",
        "# shutil.copyfile(\"wikipedia.txt\", os.path.join(path_to_dataset_in_drive, \"wikipedia.txt\"))\n",
        "wikinews_ds.save_to_disk(os.path.join(path_to_dataset_in_drive, \"wikinews\"))\n",
        "# wikipedia_ds.save_to_disk(os.path.join(path_to_dataset_in_drive, \"wikipedia\"))"
      ],
      "metadata": {
        "colab": {
          "base_uri": "https://localhost:8080/",
          "height": 198
        },
        "id": "DHGknghH_hCi",
        "outputId": "6da9f6ad-108c-422d-be12-9d01b0f19702"
      },
      "execution_count": null,
      "outputs": [
        {
          "output_type": "error",
          "ename": "NameError",
          "evalue": "name 'wikinews_ds' is not defined",
          "traceback": [
            "\u001b[0;31m---------------------------------------------------------------------------\u001b[0m",
            "\u001b[0;31mNameError\u001b[0m                                 Traceback (most recent call last)",
            "\u001b[0;32m<ipython-input-4-d7df4912a13d>\u001b[0m in \u001b[0;36m<cell line: 6>\u001b[0;34m()\u001b[0m\n\u001b[1;32m      4\u001b[0m \u001b[0;31m# shutil.copyfile(\"wikinews.txt\", os.path.join(path_to_dataset_in_drive, \"wikinews.txt\"))\u001b[0m\u001b[0;34m\u001b[0m\u001b[0;34m\u001b[0m\u001b[0m\n\u001b[1;32m      5\u001b[0m \u001b[0;31m# shutil.copyfile(\"wikipedia.txt\", os.path.join(path_to_dataset_in_drive, \"wikipedia.txt\"))\u001b[0m\u001b[0;34m\u001b[0m\u001b[0;34m\u001b[0m\u001b[0m\n\u001b[0;32m----> 6\u001b[0;31m \u001b[0mwikinews_ds\u001b[0m\u001b[0;34m.\u001b[0m\u001b[0msave_to_disk\u001b[0m\u001b[0;34m(\u001b[0m\u001b[0mos\u001b[0m\u001b[0;34m.\u001b[0m\u001b[0mpath\u001b[0m\u001b[0;34m.\u001b[0m\u001b[0mjoin\u001b[0m\u001b[0;34m(\u001b[0m\u001b[0mpath_to_dataset_in_drive\u001b[0m\u001b[0;34m,\u001b[0m \u001b[0;34m\"wikinews\"\u001b[0m\u001b[0;34m)\u001b[0m\u001b[0;34m)\u001b[0m\u001b[0;34m\u001b[0m\u001b[0;34m\u001b[0m\u001b[0m\n\u001b[0m\u001b[1;32m      7\u001b[0m \u001b[0;31m# wikipedia_ds.save_to_disk(os.path.join(path_to_dataset_in_drive, \"wikipedia\"))\u001b[0m\u001b[0;34m\u001b[0m\u001b[0;34m\u001b[0m\u001b[0m\n",
            "\u001b[0;31mNameError\u001b[0m: name 'wikinews_ds' is not defined"
          ]
        }
      ]
    },
    {
      "cell_type": "markdown",
      "source": [
        "## Dataset Filtering\n",
        "Basic Filtering to make llm better.\n",
        "\n",
        "\n",
        "\n"
      ],
      "metadata": {
        "id": "zLu1-rJK-rhf"
      }
    },
    {
      "cell_type": "code",
      "source": [
        "# load data if you have your datasets saved on disk\n",
        "path_to_dataset_in_drive = \"/content/drive/MyDrive/llm/dataset\"\n",
        "os.listdir(path_to_dataset_in_drive)"
      ],
      "metadata": {
        "colab": {
          "base_uri": "https://localhost:8080/"
        },
        "id": "DXy8iPzcpw43",
        "outputId": "404aeacb-24e8-43f3-e486-a37ac8e1f8d3"
      },
      "execution_count": 4,
      "outputs": [
        {
          "output_type": "execute_result",
          "data": {
            "text/plain": [
              "['wikipedia.txt',\n",
              " 'wikinews',\n",
              " 'wikipedia',\n",
              " 'wikinews.txt',\n",
              " 'wikinews_wikipedia.txt']"
            ]
          },
          "metadata": {},
          "execution_count": 4
        }
      ]
    },
    {
      "cell_type": "code",
      "source": [
        "wikinews_ds = load_from_disk(os.path.join(path_to_dataset_in_drive, \"wikinews\"))\n",
        "# wikipedia_ds = load_from_disk(os.path.join(path_to_dataset_in_drive, \"wikipedia\"))"
      ],
      "metadata": {
        "id": "yW1tZ0Egp--0"
      },
      "execution_count": 5,
      "outputs": []
    },
    {
      "cell_type": "code",
      "source": [
        "wikinews_ds"
      ],
      "metadata": {
        "colab": {
          "base_uri": "https://localhost:8080/"
        },
        "id": "DGLJWIhgsRtW",
        "outputId": "46a5b393-0708-4b65-80bf-1d42a422c34e"
      },
      "execution_count": 6,
      "outputs": [
        {
          "output_type": "execute_result",
          "data": {
            "text/plain": [
              "Dataset({\n",
              "    features: ['instruction', 'input', 'output', 'input_clean'],\n",
              "    num_rows: 4265\n",
              "})"
            ]
          },
          "metadata": {},
          "execution_count": 6
        }
      ]
    },
    {
      "cell_type": "markdown",
      "source": [
        "### 1. Cleaning 正規化\n",
        "neologdn  \n",
        "https://github.com/ikegami-yukino/neologdn"
      ],
      "metadata": {
        "id": "AGUzasugrSvI"
      }
    },
    {
      "cell_type": "code",
      "source": [
        "!pip install -q -U neologdn\n",
        "!pip install -q -U emoji"
      ],
      "metadata": {
        "colab": {
          "base_uri": "https://localhost:8080/"
        },
        "id": "oJNaPna1BD12",
        "outputId": "ed757435-9a85-40e7-f006-a33a48da8a02"
      },
      "execution_count": 7,
      "outputs": [
        {
          "output_type": "stream",
          "name": "stdout",
          "text": [
            "\u001b[?25l     \u001b[90m━━━━━━━━━━━━━━━━━━━━━━━━━━━━━━━━━━━━━━━━\u001b[0m \u001b[32m0.0/86.2 kB\u001b[0m \u001b[31m?\u001b[0m eta \u001b[36m-:--:--\u001b[0m\r\u001b[2K     \u001b[90m━━━━━━━━━━━━━━━━━━━━━━━━━━━━━━━━━━━━━━━━\u001b[0m \u001b[32m86.2/86.2 kB\u001b[0m \u001b[31m2.8 MB/s\u001b[0m eta \u001b[36m0:00:00\u001b[0m\n",
            "\u001b[?25h  Preparing metadata (setup.py) ... \u001b[?25l\u001b[?25hdone\n",
            "  Building wheel for neologdn (setup.py) ... \u001b[?25l\u001b[?25hdone\n",
            "\u001b[2K     \u001b[90m━━━━━━━━━━━━━━━━━━━━━━━━━━━━━━━━━━━━━━━━\u001b[0m \u001b[32m433.8/433.8 kB\u001b[0m \u001b[31m10.3 MB/s\u001b[0m eta \u001b[36m0:00:00\u001b[0m\n",
            "\u001b[?25h"
          ]
        }
      ]
    },
    {
      "cell_type": "code",
      "source": [
        "import neologdn\n",
        "import emoji\n",
        "\n",
        "def clean_text(text):\n",
        "    text = emoji.demojize(text) # wikipedia系のデータには絵文字はない？\n",
        "    text = neologdn.normalize(text)\n",
        "    return text\n",
        "\n",
        "def clean_sample(example):\n",
        "    example[\"input_clean\"] = clean_text(example[\"input\"])\n",
        "    return example\n",
        "\n",
        "\n",
        "sample_text = \"イェーイｲｪｲ今日も頑張るぞーーーーーーーーーーー！！！！！!!!\"\n",
        "\n",
        "clean_text(sample_text)"
      ],
      "metadata": {
        "colab": {
          "base_uri": "https://localhost:8080/",
          "height": 35
        },
        "id": "OHa4df-v6gVe",
        "outputId": "01536d57-b53e-4f91-f79d-9813a8139fbd"
      },
      "execution_count": 8,
      "outputs": [
        {
          "output_type": "execute_result",
          "data": {
            "text/plain": [
              "'イェーイイェイ今日も頑張るぞー!!!!!!!!'"
            ],
            "application/vnd.google.colaboratory.intrinsic+json": {
              "type": "string"
            }
          },
          "metadata": {},
          "execution_count": 8
        }
      ]
    },
    {
      "cell_type": "code",
      "source": [
        "wikinews_ds = wikinews_ds.map(clean_sample)"
      ],
      "metadata": {
        "id": "T2cZNZK7BCRH"
      },
      "execution_count": 9,
      "outputs": []
    },
    {
      "cell_type": "code",
      "source": [
        "import difflib\n",
        "\n",
        "for i in range(len(wikinews_ds[\"input_clean\"])):\n",
        "    if len(wikinews_ds[\"input_clean\"][i]) < len(wikinews_ds[\"input\"][i]):\n",
        "        raw = wikinews_ds[\"input\"][i]\n",
        "        cleaned = wikinews_ds[\"input_clean\"][i]\n",
        "        diff = difflib.HtmlDiff()\n",
        "        diff.make_file(raw, cleaned)\n",
        "        with open(\"html_diff.html\", \"w\") as f:\n",
        "            f.write(diff.make_file(raw, cleaned))\n",
        "\n",
        "        print(len(raw))\n",
        "        print(len(cleaned))\n",
        "\n",
        "        break"
      ],
      "metadata": {
        "colab": {
          "base_uri": "https://localhost:8080/"
        },
        "id": "_KheM7DDCX9_",
        "outputId": "4415d2b2-8e86-4eab-f915-2ae32bdb6455"
      },
      "execution_count": 10,
      "outputs": [
        {
          "output_type": "stream",
          "name": "stdout",
          "text": [
            "585\n",
            "583\n"
          ]
        }
      ]
    },
    {
      "cell_type": "code",
      "source": [],
      "metadata": {
        "id": "maVXZMqGtSxr"
      },
      "execution_count": null,
      "outputs": []
    },
    {
      "cell_type": "code",
      "source": [],
      "metadata": {
        "id": "QimWaJOOECsR"
      },
      "execution_count": null,
      "outputs": []
    },
    {
      "cell_type": "markdown",
      "source": [
        "### 2. Remove duplicates\n",
        "文字列がほぼ一致しているサンプルは除外する\n",
        "\n",
        "\n",
        "https://github.com/google-research/deduplicate-text-datasets\n",
        "\n",
        "\n",
        "https://github.com/ChenghaoMou/text-dedup\n",
        "\n",
        "\n",
        "などある。  \n",
        "\n",
        "ここでは一旦シンプルにpandas.DataFrame.drop_duplicateする。"
      ],
      "metadata": {
        "id": "xiDyZ40uGEo-"
      }
    },
    {
      "cell_type": "code",
      "source": [
        "# !git clone https://github.com/google-research/deduplicate-text-datasets.git\n",
        "# !cd deduplicate-text-datasets/ && cargo build\n",
        "# !cd deduplicate-text-datasets/ && python3 scripts/make_suffix_array.py /content/drive/MyDrive/llm/dataset/wikinews/"
      ],
      "metadata": {
        "id": "82S0M5gZ2CZw"
      },
      "execution_count": null,
      "outputs": []
    },
    {
      "cell_type": "code",
      "source": [
        "wikinews_ds_df = pd.DataFrame(wikinews_ds)\n",
        "pre_dedup_size = wikinews_ds_df.shape[0]\n",
        "print(f\"重複除去前：{wikinews_ds_df.shape[0]}件\")\n",
        "wikinews_ds_df.drop_duplicates(subset=\"input_clean\", inplace=True)\n",
        "print(f\"重複除去後：{wikinews_ds_df.shape[0]}件\")\n",
        "print(f\"重複除去率：{(pre_dedup_size - wikinews_ds_df.shape[0]) * 100 / pre_dedup_size :.3f}%\")\n",
        "\n",
        "wikinews_ds_df.reset_index(drop=True, inplace=True)\n",
        "wikinews_ds_df.head()"
      ],
      "metadata": {
        "colab": {
          "base_uri": "https://localhost:8080/",
          "height": 345
        },
        "id": "uW8AXuQG_2jw",
        "outputId": "4eba33ee-56e2-4cc3-f383-bcbf262f36ea"
      },
      "execution_count": 13,
      "outputs": [
        {
          "output_type": "stream",
          "name": "stdout",
          "text": [
            "重複除去前：4265件\n",
            "重複除去後：3873件\n",
            "重複除去率：9.191%\n"
          ]
        },
        {
          "output_type": "execute_result",
          "data": {
            "text/plain": [
              "              instruction                                              input  \\\n",
              "0  次のニュース記事にタイトルをつけてください。  台湾の自由時報によると、3日、陳水扁総統夫人の呉淑珍氏と馬永成元総統府副秘書長、林徳訓総統府...   \n",
              "1  次のニュース記事にタイトルをつけてください。  岩波書店は約10年ぶりの大改訂となる「広辞苑 第六版」を1月11日に発売した。J-CASTに...   \n",
              "2  次のニュース記事にタイトルをつけてください。  4日、長野県安曇野市の長野県立こども病院は、心臓疾患を持って1,100gの低出生体重で生まれ...   \n",
              "3  次のニュース記事にタイトルをつけてください。  ニッポン ニュース ネットワーク (NNN) によると27日、山形県庄内町の羽越線の脱線事故...   \n",
              "4  次のニュース記事にタイトルをつけてください。  読売新聞によると、この手紙は1993年11月に当時小学一年生だった白髭奈津実さん（現在21歳...   \n",
              "\n",
              "                           output  \\\n",
              "0  台北地方検察院、吳淑珍総統夫人らを起訴—国務機密費の流用容疑   \n",
              "1             10年ぶりに広辞苑が大改訂—第六版発売   \n",
              "2             1100ｇの男児の心臓手術に成功―長野   \n",
              "3             12月から速度規制解除—羽越線脱線事故   \n",
              "4                 15年前の手紙をカレイが届ける   \n",
              "\n",
              "                                         input_clean  \n",
              "0  台湾の自由時報によると、3日、陳水扁総統夫人の呉淑珍氏と馬永成元総統府副秘書長、林徳訓総統府...  \n",
              "1  岩波書店は約10年ぶりの大改訂となる「広辞苑第六版」を1月11日に発売した。J-CASTによ...  \n",
              "2  4日、長野県安曇野市の長野県立こども病院は、心臓疾患を持って1,100gの低出生体重で生まれ...  \n",
              "3  ニッポンニュースネットワーク(NNN)によると27日、山形県庄内町の羽越線の脱線事故でJR東...  \n",
              "4  読売新聞によると、この手紙は1993年11月に当時小学一年生だった白髭奈津実さん(現在21歳...  "
            ],
            "text/html": [
              "\n",
              "  <div id=\"df-f1608bdc-e8a7-45eb-bf33-a6c2d420c8cc\" class=\"colab-df-container\">\n",
              "    <div>\n",
              "<style scoped>\n",
              "    .dataframe tbody tr th:only-of-type {\n",
              "        vertical-align: middle;\n",
              "    }\n",
              "\n",
              "    .dataframe tbody tr th {\n",
              "        vertical-align: top;\n",
              "    }\n",
              "\n",
              "    .dataframe thead th {\n",
              "        text-align: right;\n",
              "    }\n",
              "</style>\n",
              "<table border=\"1\" class=\"dataframe\">\n",
              "  <thead>\n",
              "    <tr style=\"text-align: right;\">\n",
              "      <th></th>\n",
              "      <th>instruction</th>\n",
              "      <th>input</th>\n",
              "      <th>output</th>\n",
              "      <th>input_clean</th>\n",
              "    </tr>\n",
              "  </thead>\n",
              "  <tbody>\n",
              "    <tr>\n",
              "      <th>0</th>\n",
              "      <td>次のニュース記事にタイトルをつけてください。</td>\n",
              "      <td>台湾の自由時報によると、3日、陳水扁総統夫人の呉淑珍氏と馬永成元総統府副秘書長、林徳訓総統府...</td>\n",
              "      <td>台北地方検察院、吳淑珍総統夫人らを起訴—国務機密費の流用容疑</td>\n",
              "      <td>台湾の自由時報によると、3日、陳水扁総統夫人の呉淑珍氏と馬永成元総統府副秘書長、林徳訓総統府...</td>\n",
              "    </tr>\n",
              "    <tr>\n",
              "      <th>1</th>\n",
              "      <td>次のニュース記事にタイトルをつけてください。</td>\n",
              "      <td>岩波書店は約10年ぶりの大改訂となる「広辞苑 第六版」を1月11日に発売した。J-CASTに...</td>\n",
              "      <td>10年ぶりに広辞苑が大改訂—第六版発売</td>\n",
              "      <td>岩波書店は約10年ぶりの大改訂となる「広辞苑第六版」を1月11日に発売した。J-CASTによ...</td>\n",
              "    </tr>\n",
              "    <tr>\n",
              "      <th>2</th>\n",
              "      <td>次のニュース記事にタイトルをつけてください。</td>\n",
              "      <td>4日、長野県安曇野市の長野県立こども病院は、心臓疾患を持って1,100gの低出生体重で生まれ...</td>\n",
              "      <td>1100ｇの男児の心臓手術に成功―長野</td>\n",
              "      <td>4日、長野県安曇野市の長野県立こども病院は、心臓疾患を持って1,100gの低出生体重で生まれ...</td>\n",
              "    </tr>\n",
              "    <tr>\n",
              "      <th>3</th>\n",
              "      <td>次のニュース記事にタイトルをつけてください。</td>\n",
              "      <td>ニッポン ニュース ネットワーク (NNN) によると27日、山形県庄内町の羽越線の脱線事故...</td>\n",
              "      <td>12月から速度規制解除—羽越線脱線事故</td>\n",
              "      <td>ニッポンニュースネットワーク(NNN)によると27日、山形県庄内町の羽越線の脱線事故でJR東...</td>\n",
              "    </tr>\n",
              "    <tr>\n",
              "      <th>4</th>\n",
              "      <td>次のニュース記事にタイトルをつけてください。</td>\n",
              "      <td>読売新聞によると、この手紙は1993年11月に当時小学一年生だった白髭奈津実さん（現在21歳...</td>\n",
              "      <td>15年前の手紙をカレイが届ける</td>\n",
              "      <td>読売新聞によると、この手紙は1993年11月に当時小学一年生だった白髭奈津実さん(現在21歳...</td>\n",
              "    </tr>\n",
              "  </tbody>\n",
              "</table>\n",
              "</div>\n",
              "    <div class=\"colab-df-buttons\">\n",
              "\n",
              "  <div class=\"colab-df-container\">\n",
              "    <button class=\"colab-df-convert\" onclick=\"convertToInteractive('df-f1608bdc-e8a7-45eb-bf33-a6c2d420c8cc')\"\n",
              "            title=\"Convert this dataframe to an interactive table.\"\n",
              "            style=\"display:none;\">\n",
              "\n",
              "  <svg xmlns=\"http://www.w3.org/2000/svg\" height=\"24px\" viewBox=\"0 -960 960 960\">\n",
              "    <path d=\"M120-120v-720h720v720H120Zm60-500h600v-160H180v160Zm220 220h160v-160H400v160Zm0 220h160v-160H400v160ZM180-400h160v-160H180v160Zm440 0h160v-160H620v160ZM180-180h160v-160H180v160Zm440 0h160v-160H620v160Z\"/>\n",
              "  </svg>\n",
              "    </button>\n",
              "\n",
              "  <style>\n",
              "    .colab-df-container {\n",
              "      display:flex;\n",
              "      gap: 12px;\n",
              "    }\n",
              "\n",
              "    .colab-df-convert {\n",
              "      background-color: #E8F0FE;\n",
              "      border: none;\n",
              "      border-radius: 50%;\n",
              "      cursor: pointer;\n",
              "      display: none;\n",
              "      fill: #1967D2;\n",
              "      height: 32px;\n",
              "      padding: 0 0 0 0;\n",
              "      width: 32px;\n",
              "    }\n",
              "\n",
              "    .colab-df-convert:hover {\n",
              "      background-color: #E2EBFA;\n",
              "      box-shadow: 0px 1px 2px rgba(60, 64, 67, 0.3), 0px 1px 3px 1px rgba(60, 64, 67, 0.15);\n",
              "      fill: #174EA6;\n",
              "    }\n",
              "\n",
              "    .colab-df-buttons div {\n",
              "      margin-bottom: 4px;\n",
              "    }\n",
              "\n",
              "    [theme=dark] .colab-df-convert {\n",
              "      background-color: #3B4455;\n",
              "      fill: #D2E3FC;\n",
              "    }\n",
              "\n",
              "    [theme=dark] .colab-df-convert:hover {\n",
              "      background-color: #434B5C;\n",
              "      box-shadow: 0px 1px 3px 1px rgba(0, 0, 0, 0.15);\n",
              "      filter: drop-shadow(0px 1px 2px rgba(0, 0, 0, 0.3));\n",
              "      fill: #FFFFFF;\n",
              "    }\n",
              "  </style>\n",
              "\n",
              "    <script>\n",
              "      const buttonEl =\n",
              "        document.querySelector('#df-f1608bdc-e8a7-45eb-bf33-a6c2d420c8cc button.colab-df-convert');\n",
              "      buttonEl.style.display =\n",
              "        google.colab.kernel.accessAllowed ? 'block' : 'none';\n",
              "\n",
              "      async function convertToInteractive(key) {\n",
              "        const element = document.querySelector('#df-f1608bdc-e8a7-45eb-bf33-a6c2d420c8cc');\n",
              "        const dataTable =\n",
              "          await google.colab.kernel.invokeFunction('convertToInteractive',\n",
              "                                                    [key], {});\n",
              "        if (!dataTable) return;\n",
              "\n",
              "        const docLinkHtml = 'Like what you see? Visit the ' +\n",
              "          '<a target=\"_blank\" href=https://colab.research.google.com/notebooks/data_table.ipynb>data table notebook</a>'\n",
              "          + ' to learn more about interactive tables.';\n",
              "        element.innerHTML = '';\n",
              "        dataTable['output_type'] = 'display_data';\n",
              "        await google.colab.output.renderOutput(dataTable, element);\n",
              "        const docLink = document.createElement('div');\n",
              "        docLink.innerHTML = docLinkHtml;\n",
              "        element.appendChild(docLink);\n",
              "      }\n",
              "    </script>\n",
              "  </div>\n",
              "\n",
              "\n",
              "<div id=\"df-fea41517-5c49-4e96-a685-c1d55b845e47\">\n",
              "  <button class=\"colab-df-quickchart\" onclick=\"quickchart('df-fea41517-5c49-4e96-a685-c1d55b845e47')\"\n",
              "            title=\"Suggest charts\"\n",
              "            style=\"display:none;\">\n",
              "\n",
              "<svg xmlns=\"http://www.w3.org/2000/svg\" height=\"24px\"viewBox=\"0 0 24 24\"\n",
              "     width=\"24px\">\n",
              "    <g>\n",
              "        <path d=\"M19 3H5c-1.1 0-2 .9-2 2v14c0 1.1.9 2 2 2h14c1.1 0 2-.9 2-2V5c0-1.1-.9-2-2-2zM9 17H7v-7h2v7zm4 0h-2V7h2v10zm4 0h-2v-4h2v4z\"/>\n",
              "    </g>\n",
              "</svg>\n",
              "  </button>\n",
              "\n",
              "<style>\n",
              "  .colab-df-quickchart {\n",
              "      --bg-color: #E8F0FE;\n",
              "      --fill-color: #1967D2;\n",
              "      --hover-bg-color: #E2EBFA;\n",
              "      --hover-fill-color: #174EA6;\n",
              "      --disabled-fill-color: #AAA;\n",
              "      --disabled-bg-color: #DDD;\n",
              "  }\n",
              "\n",
              "  [theme=dark] .colab-df-quickchart {\n",
              "      --bg-color: #3B4455;\n",
              "      --fill-color: #D2E3FC;\n",
              "      --hover-bg-color: #434B5C;\n",
              "      --hover-fill-color: #FFFFFF;\n",
              "      --disabled-bg-color: #3B4455;\n",
              "      --disabled-fill-color: #666;\n",
              "  }\n",
              "\n",
              "  .colab-df-quickchart {\n",
              "    background-color: var(--bg-color);\n",
              "    border: none;\n",
              "    border-radius: 50%;\n",
              "    cursor: pointer;\n",
              "    display: none;\n",
              "    fill: var(--fill-color);\n",
              "    height: 32px;\n",
              "    padding: 0;\n",
              "    width: 32px;\n",
              "  }\n",
              "\n",
              "  .colab-df-quickchart:hover {\n",
              "    background-color: var(--hover-bg-color);\n",
              "    box-shadow: 0 1px 2px rgba(60, 64, 67, 0.3), 0 1px 3px 1px rgba(60, 64, 67, 0.15);\n",
              "    fill: var(--button-hover-fill-color);\n",
              "  }\n",
              "\n",
              "  .colab-df-quickchart-complete:disabled,\n",
              "  .colab-df-quickchart-complete:disabled:hover {\n",
              "    background-color: var(--disabled-bg-color);\n",
              "    fill: var(--disabled-fill-color);\n",
              "    box-shadow: none;\n",
              "  }\n",
              "\n",
              "  .colab-df-spinner {\n",
              "    border: 2px solid var(--fill-color);\n",
              "    border-color: transparent;\n",
              "    border-bottom-color: var(--fill-color);\n",
              "    animation:\n",
              "      spin 1s steps(1) infinite;\n",
              "  }\n",
              "\n",
              "  @keyframes spin {\n",
              "    0% {\n",
              "      border-color: transparent;\n",
              "      border-bottom-color: var(--fill-color);\n",
              "      border-left-color: var(--fill-color);\n",
              "    }\n",
              "    20% {\n",
              "      border-color: transparent;\n",
              "      border-left-color: var(--fill-color);\n",
              "      border-top-color: var(--fill-color);\n",
              "    }\n",
              "    30% {\n",
              "      border-color: transparent;\n",
              "      border-left-color: var(--fill-color);\n",
              "      border-top-color: var(--fill-color);\n",
              "      border-right-color: var(--fill-color);\n",
              "    }\n",
              "    40% {\n",
              "      border-color: transparent;\n",
              "      border-right-color: var(--fill-color);\n",
              "      border-top-color: var(--fill-color);\n",
              "    }\n",
              "    60% {\n",
              "      border-color: transparent;\n",
              "      border-right-color: var(--fill-color);\n",
              "    }\n",
              "    80% {\n",
              "      border-color: transparent;\n",
              "      border-right-color: var(--fill-color);\n",
              "      border-bottom-color: var(--fill-color);\n",
              "    }\n",
              "    90% {\n",
              "      border-color: transparent;\n",
              "      border-bottom-color: var(--fill-color);\n",
              "    }\n",
              "  }\n",
              "</style>\n",
              "\n",
              "  <script>\n",
              "    async function quickchart(key) {\n",
              "      const quickchartButtonEl =\n",
              "        document.querySelector('#' + key + ' button');\n",
              "      quickchartButtonEl.disabled = true;  // To prevent multiple clicks.\n",
              "      quickchartButtonEl.classList.add('colab-df-spinner');\n",
              "      try {\n",
              "        const charts = await google.colab.kernel.invokeFunction(\n",
              "            'suggestCharts', [key], {});\n",
              "      } catch (error) {\n",
              "        console.error('Error during call to suggestCharts:', error);\n",
              "      }\n",
              "      quickchartButtonEl.classList.remove('colab-df-spinner');\n",
              "      quickchartButtonEl.classList.add('colab-df-quickchart-complete');\n",
              "    }\n",
              "    (() => {\n",
              "      let quickchartButtonEl =\n",
              "        document.querySelector('#df-fea41517-5c49-4e96-a685-c1d55b845e47 button');\n",
              "      quickchartButtonEl.style.display =\n",
              "        google.colab.kernel.accessAllowed ? 'block' : 'none';\n",
              "    })();\n",
              "  </script>\n",
              "</div>\n",
              "\n",
              "    </div>\n",
              "  </div>\n"
            ],
            "application/vnd.google.colaboratory.intrinsic+json": {
              "type": "dataframe",
              "variable_name": "wikinews_ds_df",
              "summary": "{\n  \"name\": \"wikinews_ds_df\",\n  \"rows\": 3873,\n  \"fields\": [\n    {\n      \"column\": \"instruction\",\n      \"properties\": {\n        \"dtype\": \"category\",\n        \"num_unique_values\": 1,\n        \"samples\": [\n          \"\\u6b21\\u306e\\u30cb\\u30e5\\u30fc\\u30b9\\u8a18\\u4e8b\\u306b\\u30bf\\u30a4\\u30c8\\u30eb\\u3092\\u3064\\u3051\\u3066\\u304f\\u3060\\u3055\\u3044\\u3002\"\n        ],\n        \"semantic_type\": \"\",\n        \"description\": \"\"\n      }\n    },\n    {\n      \"column\": \"input\",\n      \"properties\": {\n        \"dtype\": \"string\",\n        \"num_unique_values\": 3873,\n        \"samples\": [\n          \"2015\\u5e749\\u670823\\u65e5\\uff08\\u6c34\\u30fb\\u795d\\uff09\\u306b\\u77f3\\u5ddd\\u770c\\u306b\\u3042\\u308b\\u91d1\\u6ca2\\u7af6\\u99ac\\u5834\\u3067\\u300c\\u30b5\\u30f3\\u30af\\u30b9\\u30db\\u30fc\\u30b9\\u30c7\\u30a4\\u30bain\\u91d1\\u6ca2\\u300d\\u304c\\u958b\\u50ac\\u3055\\u308c\\u305f\\u3002\\u30b5\\u30f3\\u30af\\u30b9\\u30db\\u30fc\\u30b9\\u30c7\\u30a4\\u30ba\\u306f\\u4eca\\u56de\\u306710\\u56de\\u76ee\\u306e\\u958b\\u50ac\\u3068\\u306a\\u308b\\u3002\\u798f\\u7559THD\\u5b9f\\u884c\\u59d4\\u54e1\\u9577\\u306b\\u3088\\u308b\\u958b\\u4f1a\\u3042\\u3044\\u3055\\u3064\\u304c\\u884c\\u308f\\u308c\\u305f\\u306e\\u3061\\u3001\\u91d1\\u6ca2\\u7af6\\u99ac\\u5834\\u3078\\u6240\\u5c5e\\u3059\\u308b\\u9a0e\\u624b\\u305f\\u3061\\u306e\\u30c8\\u30fc\\u30af\\u30b7\\u30e7\\u30fc\\u3084\\u77f3\\u5ddd\\u770c\\u306e\\u99ac\\u8853\\u9078\\u624b\\u306b\\u3088\\u308b\\u969c\\u5bb3\\u98db\\u8d8a\\u7af6\\u6280\\u306e\\u30c7\\u30e2\\u30f3\\u30b9\\u30c8\\u30ec\\u30fc\\u30b7\\u30e7\\u30f3\\u304c\\u62ab\\u9732\\u3055\\u308c\\u305f\\u3002\\u307e\\u305f\\u30dd\\u30cb\\u30fc\\u4e57\\u99ac\\u4f53\\u9a13\\u3084\\u30ea\\u30cf\\u30d3\\u30ea\\u30c6\\u30fc\\u30b7\\u30e7\\u30f3\\u4e57\\u99ac\\u306e\\u516c\\u958b\\u8b1b\\u5ea7\\u304c\\u884c\\u308f\\u308c\\u308b\\u306a\\u3069\\u3001\\u8972\\u6b69\\uff08\\u30ae\\u30e3\\u30ed\\u30c3\\u30d7\\uff09\\u3067\\u99c6\\u3051\\u629c\\u3051\\u3066\\u3086\\u304f\\u666e\\u6bb5\\u306e\\u7af6\\u8d70\\u99ac\\u3068\\u306f\\u9055\\u3063\\u305f\\u99ac\\u306e\\u5074\\u9762\\u3092\\u3001\\u4eca\\u56de\\u300c\\u30b5\\u30f3\\u30af\\u30b9\\u30db\\u30fc\\u30b9\\u30c7\\u30a4\\u30ba\\u300d\\u306b\\u96c6\\u307e\\u3063\\u305f\\u30d5\\u30a1\\u30f3\\u306b\\u5411\\u3051\\u3066\\u591a\\u89d2\\u7684\\u306b\\u898b\\u305b\\u305f\\u3002\\u30d5\\u30a1\\u30f3\\u30b5\\u30fc\\u30d3\\u30b9\\u306e\\u4e00\\u74b0\\u3068\\u3057\\u3066\\u3001JRA\\u306b\\u6240\\u5c5e\\u3057\\u3066\\u3044\\u308b\\u8abf\\u6559\\u5e2b\\u306e\\u89d2\\u5c45\\u52dd\\u5f66\\u306b\\u3088\\u308b\\u30c8\\u30fc\\u30af\\u30b7\\u30e7\\u30fc\\u3082\\u884c\\u308f\\u308c\\u305f\\u3002\\u89d2\\u5c45\\u8abf\\u6559\\u5e2b\\u306f\\u91d1\\u6ca2\\u7af6\\u99ac\\u5834\\u306e\\u8fd1\\u304f\\u306e\\u51fa\\u8eab\\u3067\\u3042\\u308b\\u3068\\u3044\\u3044\\u3001\\u300c\\u91d1\\u6ca2\\u306f\\u96ea\\u306e\\u591a\\u3044\\u753a\\u3067\\u3001\\u96a3\\u306e\\u4eba\\u3068\\u52a9\\u3051\\u5408\\u308f\\u306a\\u3044\\u3068\\u3044\\u3051\\u306a\\u3044\\u3002\\u91d1\\u6ca2\\u306e\\u98a8\\u571f\\u304c\\u81ea\\u5206\\u306e\\u8840\\u306b\\u6d41\\u308c\\u3066\\u3044\\u308b\\u3088\\u3046\\u306a\\u6c17\\u304c\\u3057\\u307e\\u3059\\u300d\\u3068\\u8a9e\\u308a\\u3001\\u91d1\\u6ca2\\u3078\\u306e\\u89aa\\u8fd1\\u611f\\u3092\\u8868\\u3057\\u305f\\u3002\\u30d5\\u30a1\\u30f3\\u306e\\u8cea\\u554f\\u306b\\u89d2\\u5c45\\u8abf\\u6559\\u5e2b\\u304c\\u53d7\\u3051\\u7b54\\u3048\\u308b\\u5f62\\u3067\\u3001\\u89d2\\u5c45\\u8abf\\u6559\\u5e2b\\u304c\\u7ba1\\u7406\\u3057\\u3066\\u3044\\u308b\\u7af6\\u8d70\\u99ac\\u306e\\u30b5\\u30f3\\u30d3\\u30b9\\u30bf\\u3084\\u30c8\\u30fc\\u30bb\\u30f3\\u30d3\\u30af\\u30c8\\u30ea\\u30fc\\u3001\\u30bf\\u30cb\\u30ce\\u30a2\\u30fc\\u30d0\\u30f3\\u30b7\\u30fc\\u306e\\u8fd1\\u6cc1\\u5831\\u544a\\u304c\\u306a\\u3055\\u308c\\u305f\\u3002\\u3055\\u3089\\u306b\\u306f\\u99c6\\u3051\\u4ed8\\u3051\\u305f\\u30d5\\u30a1\\u30f3\\u304b\\u3089\\u89d2\\u5c45\\u8abf\\u6559\\u5e2b\\u306b\\u5411\\u3051\\u3066\\u3001\\u91d1\\u6ca2\\u7af6\\u99ac\\u5834\\u3092\\u4ee3\\u8868\\u3059\\u308b\\u7af6\\u8d70\\u3067\\u3042\\u308b\\u767d\\u5c71\\u5927\\u8cde\\u5178\\u3078\\u306e\\u53c2\\u6226\\u3092\\u6c42\\u3081\\u3089\\u308c\\u3001\\u300c\\u4eca\\u3001\\u6025\\u306b\\u8a00\\u308f\\u308c\\u3066\\u7126\\u3063\\u3066\\u307e\\u3059\\u3051\\u3069\\u300d\\u3068\\u6238\\u60d1\\u3044\\u3092\\u898b\\u305b\\u306a\\u304c\\u3089\\u3082\\u540c\\u8cde\\u3078\\u306e\\u53c2\\u6226\\u306b\\u7b11\\u9854\\u3092\\u4ea4\\u3048\\u524d\\u5411\\u304d\\u306a\\u56de\\u7b54\\u3092\\u8fd4\\u3057\\u305f\\u3002\\u89d2\\u5c45\\u8abf\\u6559\\u5e2b\\u306f\\u300c\\u6b21\\u306e\\u751f\\u304d\\u65b9\\u3092\\u63a2\\u3057\\u3066\\u3042\\u3052\\u308b\\u3053\\u3068\\u304c\\u4ed5\\u4e8b\\u306b\\u306a\\u3089\\u306a\\u3044\\u306e\\u304b\\u306a\\u300d\\u3068\\u8a9e\\u308a\\u3001\\u7af6\\u8d70\\u751f\\u6d3b\\u3092\\u7d42\\u3048\\u305f\\u306e\\u3061\\u3082\\u7af6\\u8d70\\u99ac\\u304c\\u751f\\u304d\\u3084\\u3059\\u304f\\u306a\\u308b\\u53ef\\u80fd\\u6027\\u3092\\u6a21\\u7d22\\u3057\\u3066\\u3044\\u308b\\u3002\\u305d\\u306e\\u4e00\\u74b0\\u3068\\u3057\\u3066\\u89d2\\u5c45\\u8abf\\u6559\\u5e2b\\u306f\\u3001\\u5f15\\u9000\\u3057\\u305f\\u7af6\\u8d70\\u99ac\\u306b\\u3067\\u304d\\u308b\\u3060\\u3051\\u5b89\\u3044\\u8cbb\\u7528\\u3067\\u30d5\\u30a1\\u30f3\\u304c\\u4e57\\u99ac\\u3059\\u308b\\u3053\\u3068\\u304c\\u5b9f\\u73fe\\u3067\\u304d\\u308b\\u3088\\u3046\\u306b\\u306a\\u308b\\u30d7\\u30ed\\u30b8\\u30a7\\u30af\\u30c8\\u3092\\u9032\\u3081\\u3066\\u3044\\u308b\\u6bb5\\u968e\\u3067\\u3042\\u308b\\u3068\\u3044\\u3046\\u3002\\u89d2\\u5c45\\u8abf\\u6559\\u5e2b\\u306f\\u300c\\u5730\\u65b9\\u7af6\\u99ac\\u306e\\u65b9\\u304c\\u71b1\\u5fc3\\u306b\\u30b5\\u30f3\\u30af\\u30b9\\u30db\\u30fc\\u30b9\\u30c7\\u30a4\\u30ba\\u306b\\u8cdb\\u540c\\u3057\\u3066\\u304f\\u308c\\u3066\\u3001\\u540d\\u53e4\\u5c4b\\u3001\\u9ad8\\u77e5\\u3001\\u91d1\\u6ca2\\u3068\\u3084\\u3089\\u305b\\u3066\\u3082\\u3089\\u3044\\u307e\\u3057\\u305f\\u304c\\u3001\\u3044\\u308d\\u3093\\u306a\\u7af6\\u99ac\\u5834\\u3067\\u3067\\u304d\\u305f\\u3089\\u3044\\u3044\\u306a\\u3068\\u601d\\u3044\\u307e\\u3059\\u300d\\u3068\\u8a9e\\u308a\\u3001\\u6b21\\u56de\\u306e\\u958b\\u50ac\\u306b\\u5411\\u3051\\u3066\\u610f\\u6b32\\u3092\\u793a\\u3057\\u305f\\u3002\"\n        ],\n        \"semantic_type\": \"\",\n        \"description\": \"\"\n      }\n    },\n    {\n      \"column\": \"output\",\n      \"properties\": {\n        \"dtype\": \"string\",\n        \"num_unique_values\": 3872,\n        \"samples\": [\n          \"\\u7b2c98\\u56de\\u7bb1\\u6839\\u99c5\\u4f1d\\u4e88\\u9078\\u4f1a\\u3001\\u660e\\u5927\\u304c\\u30c8\\u30c3\\u30d7\\u901a\\u904e \\u99ff\\u6cb3\\u53f0\\u5927\\u306f\\u521d\\u51fa\\u5834\"\n        ],\n        \"semantic_type\": \"\",\n        \"description\": \"\"\n      }\n    },\n    {\n      \"column\": \"input_clean\",\n      \"properties\": {\n        \"dtype\": \"string\",\n        \"num_unique_values\": 3873,\n        \"samples\": [\n          \"2015\\u5e749\\u670823\\u65e5(\\u6c34\\u30fb\\u795d)\\u306b\\u77f3\\u5ddd\\u770c\\u306b\\u3042\\u308b\\u91d1\\u6ca2\\u7af6\\u99ac\\u5834\\u3067\\u300c\\u30b5\\u30f3\\u30af\\u30b9\\u30db\\u30fc\\u30b9\\u30c7\\u30a4\\u30bain\\u91d1\\u6ca2\\u300d\\u304c\\u958b\\u50ac\\u3055\\u308c\\u305f\\u3002\\u30b5\\u30f3\\u30af\\u30b9\\u30db\\u30fc\\u30b9\\u30c7\\u30a4\\u30ba\\u306f\\u4eca\\u56de\\u306710\\u56de\\u76ee\\u306e\\u958b\\u50ac\\u3068\\u306a\\u308b\\u3002\\u798f\\u7559THD\\u5b9f\\u884c\\u59d4\\u54e1\\u9577\\u306b\\u3088\\u308b\\u958b\\u4f1a\\u3042\\u3044\\u3055\\u3064\\u304c\\u884c\\u308f\\u308c\\u305f\\u306e\\u3061\\u3001\\u91d1\\u6ca2\\u7af6\\u99ac\\u5834\\u3078\\u6240\\u5c5e\\u3059\\u308b\\u9a0e\\u624b\\u305f\\u3061\\u306e\\u30c8\\u30fc\\u30af\\u30b7\\u30e7\\u30fc\\u3084\\u77f3\\u5ddd\\u770c\\u306e\\u99ac\\u8853\\u9078\\u624b\\u306b\\u3088\\u308b\\u969c\\u5bb3\\u98db\\u8d8a\\u7af6\\u6280\\u306e\\u30c7\\u30e2\\u30f3\\u30b9\\u30c8\\u30ec\\u30fc\\u30b7\\u30e7\\u30f3\\u304c\\u62ab\\u9732\\u3055\\u308c\\u305f\\u3002\\u307e\\u305f\\u30dd\\u30cb\\u30fc\\u4e57\\u99ac\\u4f53\\u9a13\\u3084\\u30ea\\u30cf\\u30d3\\u30ea\\u30c6\\u30fc\\u30b7\\u30e7\\u30f3\\u4e57\\u99ac\\u306e\\u516c\\u958b\\u8b1b\\u5ea7\\u304c\\u884c\\u308f\\u308c\\u308b\\u306a\\u3069\\u3001\\u8972\\u6b69(\\u30ae\\u30e3\\u30ed\\u30c3\\u30d7)\\u3067\\u99c6\\u3051\\u629c\\u3051\\u3066\\u3086\\u304f\\u666e\\u6bb5\\u306e\\u7af6\\u8d70\\u99ac\\u3068\\u306f\\u9055\\u3063\\u305f\\u99ac\\u306e\\u5074\\u9762\\u3092\\u3001\\u4eca\\u56de\\u300c\\u30b5\\u30f3\\u30af\\u30b9\\u30db\\u30fc\\u30b9\\u30c7\\u30a4\\u30ba\\u300d\\u306b\\u96c6\\u307e\\u3063\\u305f\\u30d5\\u30a1\\u30f3\\u306b\\u5411\\u3051\\u3066\\u591a\\u89d2\\u7684\\u306b\\u898b\\u305b\\u305f\\u3002\\u30d5\\u30a1\\u30f3\\u30b5\\u30fc\\u30d3\\u30b9\\u306e\\u4e00\\u74b0\\u3068\\u3057\\u3066\\u3001JRA\\u306b\\u6240\\u5c5e\\u3057\\u3066\\u3044\\u308b\\u8abf\\u6559\\u5e2b\\u306e\\u89d2\\u5c45\\u52dd\\u5f66\\u306b\\u3088\\u308b\\u30c8\\u30fc\\u30af\\u30b7\\u30e7\\u30fc\\u3082\\u884c\\u308f\\u308c\\u305f\\u3002\\u89d2\\u5c45\\u8abf\\u6559\\u5e2b\\u306f\\u91d1\\u6ca2\\u7af6\\u99ac\\u5834\\u306e\\u8fd1\\u304f\\u306e\\u51fa\\u8eab\\u3067\\u3042\\u308b\\u3068\\u3044\\u3044\\u3001\\u300c\\u91d1\\u6ca2\\u306f\\u96ea\\u306e\\u591a\\u3044\\u753a\\u3067\\u3001\\u96a3\\u306e\\u4eba\\u3068\\u52a9\\u3051\\u5408\\u308f\\u306a\\u3044\\u3068\\u3044\\u3051\\u306a\\u3044\\u3002\\u91d1\\u6ca2\\u306e\\u98a8\\u571f\\u304c\\u81ea\\u5206\\u306e\\u8840\\u306b\\u6d41\\u308c\\u3066\\u3044\\u308b\\u3088\\u3046\\u306a\\u6c17\\u304c\\u3057\\u307e\\u3059\\u300d\\u3068\\u8a9e\\u308a\\u3001\\u91d1\\u6ca2\\u3078\\u306e\\u89aa\\u8fd1\\u611f\\u3092\\u8868\\u3057\\u305f\\u3002\\u30d5\\u30a1\\u30f3\\u306e\\u8cea\\u554f\\u306b\\u89d2\\u5c45\\u8abf\\u6559\\u5e2b\\u304c\\u53d7\\u3051\\u7b54\\u3048\\u308b\\u5f62\\u3067\\u3001\\u89d2\\u5c45\\u8abf\\u6559\\u5e2b\\u304c\\u7ba1\\u7406\\u3057\\u3066\\u3044\\u308b\\u7af6\\u8d70\\u99ac\\u306e\\u30b5\\u30f3\\u30d3\\u30b9\\u30bf\\u3084\\u30c8\\u30fc\\u30bb\\u30f3\\u30d3\\u30af\\u30c8\\u30ea\\u30fc\\u3001\\u30bf\\u30cb\\u30ce\\u30a2\\u30fc\\u30d0\\u30f3\\u30b7\\u30fc\\u306e\\u8fd1\\u6cc1\\u5831\\u544a\\u304c\\u306a\\u3055\\u308c\\u305f\\u3002\\u3055\\u3089\\u306b\\u306f\\u99c6\\u3051\\u4ed8\\u3051\\u305f\\u30d5\\u30a1\\u30f3\\u304b\\u3089\\u89d2\\u5c45\\u8abf\\u6559\\u5e2b\\u306b\\u5411\\u3051\\u3066\\u3001\\u91d1\\u6ca2\\u7af6\\u99ac\\u5834\\u3092\\u4ee3\\u8868\\u3059\\u308b\\u7af6\\u8d70\\u3067\\u3042\\u308b\\u767d\\u5c71\\u5927\\u8cde\\u5178\\u3078\\u306e\\u53c2\\u6226\\u3092\\u6c42\\u3081\\u3089\\u308c\\u3001\\u300c\\u4eca\\u3001\\u6025\\u306b\\u8a00\\u308f\\u308c\\u3066\\u7126\\u3063\\u3066\\u307e\\u3059\\u3051\\u3069\\u300d\\u3068\\u6238\\u60d1\\u3044\\u3092\\u898b\\u305b\\u306a\\u304c\\u3089\\u3082\\u540c\\u8cde\\u3078\\u306e\\u53c2\\u6226\\u306b\\u7b11\\u9854\\u3092\\u4ea4\\u3048\\u524d\\u5411\\u304d\\u306a\\u56de\\u7b54\\u3092\\u8fd4\\u3057\\u305f\\u3002\\u89d2\\u5c45\\u8abf\\u6559\\u5e2b\\u306f\\u300c\\u6b21\\u306e\\u751f\\u304d\\u65b9\\u3092\\u63a2\\u3057\\u3066\\u3042\\u3052\\u308b\\u3053\\u3068\\u304c\\u4ed5\\u4e8b\\u306b\\u306a\\u3089\\u306a\\u3044\\u306e\\u304b\\u306a\\u300d\\u3068\\u8a9e\\u308a\\u3001\\u7af6\\u8d70\\u751f\\u6d3b\\u3092\\u7d42\\u3048\\u305f\\u306e\\u3061\\u3082\\u7af6\\u8d70\\u99ac\\u304c\\u751f\\u304d\\u3084\\u3059\\u304f\\u306a\\u308b\\u53ef\\u80fd\\u6027\\u3092\\u6a21\\u7d22\\u3057\\u3066\\u3044\\u308b\\u3002\\u305d\\u306e\\u4e00\\u74b0\\u3068\\u3057\\u3066\\u89d2\\u5c45\\u8abf\\u6559\\u5e2b\\u306f\\u3001\\u5f15\\u9000\\u3057\\u305f\\u7af6\\u8d70\\u99ac\\u306b\\u3067\\u304d\\u308b\\u3060\\u3051\\u5b89\\u3044\\u8cbb\\u7528\\u3067\\u30d5\\u30a1\\u30f3\\u304c\\u4e57\\u99ac\\u3059\\u308b\\u3053\\u3068\\u304c\\u5b9f\\u73fe\\u3067\\u304d\\u308b\\u3088\\u3046\\u306b\\u306a\\u308b\\u30d7\\u30ed\\u30b8\\u30a7\\u30af\\u30c8\\u3092\\u9032\\u3081\\u3066\\u3044\\u308b\\u6bb5\\u968e\\u3067\\u3042\\u308b\\u3068\\u3044\\u3046\\u3002\\u89d2\\u5c45\\u8abf\\u6559\\u5e2b\\u306f\\u300c\\u5730\\u65b9\\u7af6\\u99ac\\u306e\\u65b9\\u304c\\u71b1\\u5fc3\\u306b\\u30b5\\u30f3\\u30af\\u30b9\\u30db\\u30fc\\u30b9\\u30c7\\u30a4\\u30ba\\u306b\\u8cdb\\u540c\\u3057\\u3066\\u304f\\u308c\\u3066\\u3001\\u540d\\u53e4\\u5c4b\\u3001\\u9ad8\\u77e5\\u3001\\u91d1\\u6ca2\\u3068\\u3084\\u3089\\u305b\\u3066\\u3082\\u3089\\u3044\\u307e\\u3057\\u305f\\u304c\\u3001\\u3044\\u308d\\u3093\\u306a\\u7af6\\u99ac\\u5834\\u3067\\u3067\\u304d\\u305f\\u3089\\u3044\\u3044\\u306a\\u3068\\u601d\\u3044\\u307e\\u3059\\u300d\\u3068\\u8a9e\\u308a\\u3001\\u6b21\\u56de\\u306e\\u958b\\u50ac\\u306b\\u5411\\u3051\\u3066\\u610f\\u6b32\\u3092\\u793a\\u3057\\u305f\\u3002\"\n        ],\n        \"semantic_type\": \"\",\n        \"description\": \"\"\n      }\n    }\n  ]\n}"
            }
          },
          "metadata": {},
          "execution_count": 13
        }
      ]
    },
    {
      "cell_type": "code",
      "source": [
        "wikinews_ds = Dataset.from_pandas(wikinews_ds_df)\n",
        "wikinews_ds"
      ],
      "metadata": {
        "colab": {
          "base_uri": "https://localhost:8080/"
        },
        "id": "Vl_I2Z_TIeBe",
        "outputId": "50318f8f-53eb-467b-e7c3-fb7c7d490fd7"
      },
      "execution_count": 14,
      "outputs": [
        {
          "output_type": "execute_result",
          "data": {
            "text/plain": [
              "Dataset({\n",
              "    features: ['instruction', 'input', 'output', 'input_clean'],\n",
              "    num_rows: 3873\n",
              "})"
            ]
          },
          "metadata": {},
          "execution_count": 14
        }
      ]
    },
    {
      "cell_type": "code",
      "source": [],
      "metadata": {
        "id": "rnuwIYGhic55"
      },
      "execution_count": null,
      "outputs": []
    },
    {
      "cell_type": "markdown",
      "source": [
        "### 3. Remove toxic data\n",
        "\n",
        "（実際に大規模言語モデル学習の文脈で使っていいかわからないが）  \n",
        "OpenAIのModeration API or Perspective APIなどでやるのが一番楽か？"
      ],
      "metadata": {
        "id": "c0pgpTuEGErz"
      }
    },
    {
      "cell_type": "code",
      "source": [
        "!pip install -q -U openai"
      ],
      "metadata": {
        "colab": {
          "base_uri": "https://localhost:8080/"
        },
        "id": "ONoQSJNnFZc0",
        "outputId": "2a5cd892-653e-4ec7-8465-d29142c76955"
      },
      "execution_count": null,
      "outputs": [
        {
          "output_type": "stream",
          "name": "stdout",
          "text": [
            "\u001b[?25l     \u001b[90m━━━━━━━━━━━━━━━━━━━━━━━━━━━━━━━━━━━━━━━━\u001b[0m \u001b[32m0.0/267.1 kB\u001b[0m \u001b[31m?\u001b[0m eta \u001b[36m-:--:--\u001b[0m\r\u001b[2K     \u001b[91m━━━━━━━━━━━━━━━━━━━━━━━━━━━━━━━━━━━━━━━\u001b[0m\u001b[91m╸\u001b[0m \u001b[32m266.2/267.1 kB\u001b[0m \u001b[31m8.2 MB/s\u001b[0m eta \u001b[36m0:00:01\u001b[0m\r\u001b[2K     \u001b[90m━━━━━━━━━━━━━━━━━━━━━━━━━━━━━━━━━━━━━━━━\u001b[0m \u001b[32m267.1/267.1 kB\u001b[0m \u001b[31m6.5 MB/s\u001b[0m eta \u001b[36m0:00:00\u001b[0m\n",
            "\u001b[?25h\u001b[?25l     \u001b[90m━━━━━━━━━━━━━━━━━━━━━━━━━━━━━━━━━━━━━━━━\u001b[0m \u001b[32m0.0/75.6 kB\u001b[0m \u001b[31m?\u001b[0m eta \u001b[36m-:--:--\u001b[0m\r\u001b[2K     \u001b[90m━━━━━━━━━━━━━━━━━━━━━━━━━━━━━━━━━━━━━━━━\u001b[0m \u001b[32m75.6/75.6 kB\u001b[0m \u001b[31m10.7 MB/s\u001b[0m eta \u001b[36m0:00:00\u001b[0m\n",
            "\u001b[2K     \u001b[90m━━━━━━━━━━━━━━━━━━━━━━━━━━━━━━━━━━━━━━━━\u001b[0m \u001b[32m77.9/77.9 kB\u001b[0m \u001b[31m9.3 MB/s\u001b[0m eta \u001b[36m0:00:00\u001b[0m\n",
            "\u001b[2K     \u001b[90m━━━━━━━━━━━━━━━━━━━━━━━━━━━━━━━━━━━━━━━━\u001b[0m \u001b[32m58.3/58.3 kB\u001b[0m \u001b[31m8.2 MB/s\u001b[0m eta \u001b[36m0:00:00\u001b[0m\n",
            "\u001b[?25h"
          ]
        }
      ]
    },
    {
      "cell_type": "code",
      "source": [
        "from google.colab import userdata\n",
        "openai_api_key = userdata.get('OPENAI_API_KEY')"
      ],
      "metadata": {
        "id": "YBfluU1_FUR1"
      },
      "execution_count": null,
      "outputs": []
    },
    {
      "cell_type": "code",
      "source": [
        "from openai import OpenAI\n",
        "client = OpenAI(api_key=openai_api_key)\n",
        "\n",
        "moderation = client.moderations.create(input=\"LLM開発は人類を滅亡させる\")\n",
        "print(moderation)"
      ],
      "metadata": {
        "id": "AkLGhBLXF0sD"
      },
      "execution_count": null,
      "outputs": []
    },
    {
      "cell_type": "code",
      "source": [
        "wikinews_ds.to_csv(\"wikinews.txt\", columns=[\"input\"], sep=\"\\t\", index=False, header=False)"
      ],
      "metadata": {
        "id": "Zqc1PUN6F0ub"
      },
      "execution_count": null,
      "outputs": []
    },
    {
      "cell_type": "markdown",
      "source": [
        "## Save Data for training Tokenizer"
      ],
      "metadata": {
        "id": "EWnkYUetiisl"
      }
    },
    {
      "cell_type": "code",
      "source": [
        "wikinews_ds.to_csv(\"wikinews.txt\", columns=[\"input\"], sep=\"\\t\", index=False, header=False)\n",
        "shutil.copyfile(\"wikinews.txt\", os.path.join(path_to_dataset_in_drive, \"wikinews.txt\"))"
      ],
      "metadata": {
        "colab": {
          "base_uri": "https://localhost:8080/",
          "height": 67,
          "referenced_widgets": [
            "1f5986fa4fa04b6bb5e5af9d5ab985ec",
            "1d96210532af44d4bf2b10a1705e0cad",
            "1c6b985769b1432097a7f82036a265c0",
            "72cc9a8e895c4294bf6f56e928fa973c",
            "f45648a00f83416a9a8258936cd3b6cc",
            "a42c420216cd4fb9a1766da6cb77cf6b",
            "e00bbb23750f4389bff338e4b5eaa427",
            "497dc6b66c6b4d89af8e9728decb20be",
            "8e9ef42435024fc097fd499909685c17",
            "a7e40055dbaa43e2965bfdeb802274d0",
            "47a986386a794d009395092652aaff3d"
          ]
        },
        "id": "yH1x7XUJihIj",
        "outputId": "23913abe-136d-49d5-e622-a38617161c27"
      },
      "execution_count": 15,
      "outputs": [
        {
          "output_type": "display_data",
          "data": {
            "text/plain": [
              "Creating CSV from Arrow format:   0%|          | 0/4 [00:00<?, ?ba/s]"
            ],
            "application/vnd.jupyter.widget-view+json": {
              "version_major": 2,
              "version_minor": 0,
              "model_id": "1f5986fa4fa04b6bb5e5af9d5ab985ec"
            }
          },
          "metadata": {}
        },
        {
          "output_type": "execute_result",
          "data": {
            "text/plain": [
              "'/content/drive/MyDrive/llm/dataset/wikinews.txt'"
            ],
            "application/vnd.google.colaboratory.intrinsic+json": {
              "type": "string"
            }
          },
          "metadata": {},
          "execution_count": 15
        }
      ]
    }
  ]
}